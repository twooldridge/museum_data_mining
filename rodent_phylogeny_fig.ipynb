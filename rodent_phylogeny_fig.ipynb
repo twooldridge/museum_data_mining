{
 "cells": [
  {
   "cell_type": "code",
   "execution_count": 2,
   "metadata": {},
   "outputs": [],
   "source": [
    "library(ggtree)\n",
    "library(tidyverse)\n",
    "library(magrittr)\n",
    "library(repr)\n",
    "library(wesanderson)\n",
    "setwd(\"~/museum_data/\")"
   ]
  },
  {
   "cell_type": "code",
   "execution_count": 28,
   "metadata": {},
   "outputs": [
    {
     "data": {
      "text/html": [
       "'italic(blah\\n)~italic(temp)'"
      ],
      "text/latex": [
       "'italic(blah\\textbackslash{}n)\\textasciitilde{}italic(temp)'"
      ],
      "text/markdown": [
       "'italic(blah\\n)~italic(temp)'"
      ],
      "text/plain": [
       "[1] \"italic(blah\\n)~italic(temp)\""
      ]
     },
     "metadata": {},
     "output_type": "display_data"
    }
   ],
   "source": [
    "genus=\"blah\"\n",
    "species=\"temp\"\n",
    "paste0('italic(', genus, '\\n)~italic(', species, ')')"
   ]
  },
  {
   "cell_type": "code",
   "execution_count": 43,
   "metadata": {},
   "outputs": [
    {
     "data": {
      "image/png": "[encoded data removed]",
      "text/plain": [
       "plot without title"
      ]
     },
     "metadata": {},
     "output_type": "display_data"
    }
   ],
   "source": [
    "tree = read.tree(\"ultrametric_clock_tree-Pero-Mouse-Rat-Vole.nwk\")\n",
    "tree$tip.label = c(\"Peromyscus_polionotus\",\"Peromyscus_maniculatus\",\"Microtus_ochrogaster\",\"Rattus_norvegicus\",\"Mus_musculus\")\n",
    "genus_vec = c(\"Peromyscus\",\"Peromyscus\",\"Microtus\",\"Rattus\",\"Mus\")\n",
    "species_vec = c(\"polionotus\",\"maniculatus\",\"ochrogaster\",\"norvegicus\",\"musculus\")\n",
    "\n",
    "d = data.frame(label = tree$tip.label, genus = genus_vec,species = species_vec)\n",
    "\n",
    "options(repr.plot.width=4,repr.plot.height=6)\n",
    "p = ggtree(tree, color=wes_palette(\"Darjeeling2\")[2], size=1.5) %<+% d + \n",
    "    theme_tree2(axis.line.x=element_line(color=wes_palette(\"Darjeeling2\")[2])) +\n",
    "    theme(axis.text.x = element_text(size=12))#+\n",
    "    #geom_tiplab(aes(label=paste0('italic(', genus, '\\n)~italic(', species, ')')), parse=T)\n",
    "    #geom_tiplab()\n",
    "    #geom_tiplab(aes(label=paste0('italic(', label, ')')),parse=T)\n",
    "p = revts(p)\n",
    "p + scale_x_continuous(breaks=seq(-25,10,5), labels=abs(seq(-25,10,5)))# + ggplot2::xlim(c(-25,8))"
   ]
  }
 ],
 "metadata": {
  "kernelspec": {
   "display_name": "R 3.5",
   "language": "R",
   "name": "ir35"
  },
  "language_info": {
   "codemirror_mode": "r",
   "file_extension": ".r",
   "mimetype": "text/x-r-source",
   "name": "R",
   "pygments_lexer": "r",
   "version": "3.5.1"
  },
  "toc": {
   "base_numbering": 1,
   "nav_menu": {},
   "number_sections": true,
   "sideBar": true,
   "skip_h1_title": false,
   "title_cell": "Table of Contents",
   "title_sidebar": "Contents",
   "toc_cell": false,
   "toc_position": {},
   "toc_section_display": true,
   "toc_window_display": false
  }
 },
 "nbformat": 4,
 "nbformat_minor": 2
}
