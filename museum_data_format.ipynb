{
 "cells": [
  {
   "cell_type": "code",
   "execution_count": 2,
   "metadata": {
    "collapsed": false
   },
   "outputs": [
    {
     "name": "stderr",
     "output_type": "stream",
     "text": [
      "── Attaching packages ─────────────────────────────────────── tidyverse 1.2.1 ──\n",
      "✔ ggplot2 2.2.1     ✔ purrr   0.2.4\n",
      "✔ tibble  1.4.2     ✔ dplyr   0.7.4\n",
      "✔ tidyr   0.8.0     ✔ stringr 1.3.0\n",
      "✔ readr   1.1.1     ✔ forcats 0.3.0\n",
      "── Conflicts ────────────────────────────────────────── tidyverse_conflicts() ──\n",
      "✖ dplyr::filter() masks stats::filter()\n",
      "✖ dplyr::lag()    masks stats::lag()\n",
      "\n",
      "Attaching package: ‘data.table’\n",
      "\n",
      "The following objects are masked from ‘package:dplyr’:\n",
      "\n",
      "    between, first, last\n",
      "\n",
      "The following object is masked from ‘package:purrr’:\n",
      "\n",
      "    transpose\n",
      "\n",
      "\n",
      "Attaching package: ‘magrittr’\n",
      "\n",
      "The following object is masked from ‘package:purrr’:\n",
      "\n",
      "    set_names\n",
      "\n",
      "The following object is masked from ‘package:tidyr’:\n",
      "\n",
      "    extract\n",
      "\n"
     ]
    }
   ],
   "source": [
    "library(tidyverse)\n",
    "library(data.table)\n",
    "library(magrittr)\n",
    "setwd(\"~/museum_data/rawdata/\")"
   ]
  },
  {
   "cell_type": "markdown",
   "metadata": {},
   "source": [
    "## VERTNET"
   ]
  },
  {
   "cell_type": "code",
   "execution_count": 82,
   "metadata": {
    "collapsed": false
   },
   "outputs": [
    {
     "data": {
      "text/html": [
       "<table>\n",
       "<thead><tr><th scope=col>ids</th><th scope=col>scientificname</th><th scope=col>sex</th><th scope=col>stateprovince</th><th scope=col>locality</th><th scope=col>decimallongitude</th><th scope=col>decimallatitude</th><th scope=col>preparations</th><th scope=col>lifestage</th><th scope=col>hastissue</th><th scope=col>dynamicproperties</th><th scope=col>habitat</th><th scope=col>year</th></tr></thead>\n",
       "<tbody>\n",
       "\t<tr><td>CAS:1001                          </td><td>Peromyscus maniculatus sonoriensis</td><td>male                              </td><td>California                        </td><td>Buttonwillow                      </td><td>-119.46583                        </td><td>35.40019                          </td><td>SS                                </td><td>                                  </td><td>0                                 </td><td>                                  </td><td>                                  </td><td>1914                              </td></tr>\n",
       "</tbody>\n",
       "</table>\n"
      ],
      "text/latex": [
       "\\begin{tabular}{r|lllllllllllll}\n",
       " ids & scientificname & sex & stateprovince & locality & decimallongitude & decimallatitude & preparations & lifestage & hastissue & dynamicproperties & habitat & year\\\\\n",
       "\\hline\n",
       "\t CAS:1001                           & Peromyscus maniculatus sonoriensis & male                               & California                         & Buttonwillow                       & -119.46583                         & 35.40019                           & SS                                 &                                    & 0                                  &                                    &                                    & 1914                              \\\\\n",
       "\\end{tabular}\n"
      ],
      "text/markdown": [
       "\n",
       "ids | scientificname | sex | stateprovince | locality | decimallongitude | decimallatitude | preparations | lifestage | hastissue | dynamicproperties | habitat | year | \n",
       "|---|\n",
       "| CAS:1001                           | Peromyscus maniculatus sonoriensis | male                               | California                         | Buttonwillow                       | -119.46583                         | 35.40019                           | SS                                 |                                    | 0                                  |                                    |                                    | 1914                               | \n",
       "\n",
       "\n"
      ],
      "text/plain": [
       "  ids      scientificname                     sex  stateprovince locality    \n",
       "1 CAS:1001 Peromyscus maniculatus sonoriensis male California    Buttonwillow\n",
       "  decimallongitude decimallatitude preparations lifestage hastissue\n",
       "1 -119.46583       35.40019        SS                     0        \n",
       "  dynamicproperties habitat year\n",
       "1                           1914"
      ]
     },
     "metadata": {},
     "output_type": "display_data"
    }
   ],
   "source": [
    "## Neither fread nor read.table read in the right number of rows, this is the only way\n",
    "tmp<-matrix(ncol=174,nrow=150000) \n",
    "for (i in 1:150000) {\n",
    "    row = unlist(strsplit(x[i+1],split=\"\\t\"))\n",
    "    if (length(row) < 174) {print(i)}\n",
    "    tmp[i,]<- row\n",
    "    #\n",
    "}\n",
    "colnames(tmp)<-unlist(strsplit(x[1],split=\"\\t\")) \n",
    "vertnet <-data.frame(tmp,stringsAsFactors=F) \n",
    "\n",
    "## Create ids ##\n",
    "vertnet %<>% mutate(ids = paste(institutioncode,catalognumber,sep=\":\"))\n",
    "\n",
    "## Select relevant columns. This will become the template for all subsequent datasets ##\n",
    "vertnet %<>% dplyr::select(ids,\n",
    "                          scientificname,\n",
    "                          sex,\n",
    "                          stateprovince,\n",
    "                          locality,\n",
    "                          decimallongitude,\n",
    "                          decimallatitude,\n",
    "                          preparations,\n",
    "                          lifestage,\n",
    "                          hastissue,\n",
    "                          dynamicproperties,\n",
    "                          habitat,\n",
    "                          year)\n",
    "\n",
    "head(vertnet,1)"
   ]
  },
  {
   "cell_type": "markdown",
   "metadata": {},
   "source": [
    "## Arctos"
   ]
  },
  {
   "cell_type": "code",
   "execution_count": 95,
   "metadata": {
    "collapsed": false
   },
   "outputs": [],
   "source": [
    "arctos <- read.csv(\"arctos_pmanic_full.csv\") # fread was throwing annoying erros, this read.csv doesn't take too long"
   ]
  },
  {
   "cell_type": "code",
   "execution_count": 96,
   "metadata": {
    "collapsed": false
   },
   "outputs": [
    {
     "data": {
      "text/html": [
       "<table>\n",
       "<thead><tr><th scope=col>ids</th><th scope=col>scientificname</th><th scope=col>sex</th><th scope=col>stateprovince</th><th scope=col>locality</th><th scope=col>decimallongitude</th><th scope=col>decimallatitude</th><th scope=col>preparations</th><th scope=col>lifestage</th><th scope=col>hastissue</th><th scope=col>habitat</th><th scope=col>year</th><th scope=col>total</th><th scope=col>tail</th><th scope=col>hind_foot</th><th scope=col>ear</th><th scope=col>weight</th><th scope=col>dynamicproperties</th></tr></thead>\n",
       "<tbody>\n",
       "\t<tr><td>UAM:51334                         </td><td>Peromyscus maniculatus            </td><td>female                            </td><td>Colorado                          </td><td>                                  </td><td>-106.8333                         </td><td>37.03333                          </td><td>skin; skull; skeleton, postcranial</td><td>                                  </td><td>0                                 </td><td>                                  </td><td>1996                              </td><td>158 mm                            </td><td>64 mm                             </td><td>20 mm                             </td><td>20 mm                             </td><td>                                  </td><td>NA                                </td></tr>\n",
       "</tbody>\n",
       "</table>\n"
      ],
      "text/latex": [
       "\\begin{tabular}{r|llllllllllllllllll}\n",
       " ids & scientificname & sex & stateprovince & locality & decimallongitude & decimallatitude & preparations & lifestage & hastissue & habitat & year & total & tail & hind\\_foot & ear & weight & dynamicproperties\\\\\n",
       "\\hline\n",
       "\t UAM:51334                          & Peromyscus maniculatus             & female                             & Colorado                           &                                    & -106.8333                          & 37.03333                           & skin; skull; skeleton, postcranial &                                    & 0                                  &                                    & 1996                               & 158 mm                             & 64 mm                              & 20 mm                              & 20 mm                              &                                    & NA                                \\\\\n",
       "\\end{tabular}\n"
      ],
      "text/markdown": [
       "\n",
       "ids | scientificname | sex | stateprovince | locality | decimallongitude | decimallatitude | preparations | lifestage | hastissue | habitat | year | total | tail | hind_foot | ear | weight | dynamicproperties | \n",
       "|---|\n",
       "| UAM:51334                          | Peromyscus maniculatus             | female                             | Colorado                           |                                    | -106.8333                          | 37.03333                           | skin; skull; skeleton, postcranial |                                    | 0                                  |                                    | 1996                               | 158 mm                             | 64 mm                              | 20 mm                              | 20 mm                              |                                    | NA                                 | \n",
       "\n",
       "\n"
      ],
      "text/plain": [
       "  ids       scientificname         sex    stateprovince locality\n",
       "1 UAM:51334 Peromyscus maniculatus female Colorado              \n",
       "  decimallongitude decimallatitude preparations                       lifestage\n",
       "1 -106.8333        37.03333        skin; skull; skeleton, postcranial          \n",
       "  hastissue habitat year total  tail  hind_foot ear   weight dynamicproperties\n",
       "1 0                 1996 158 mm 64 mm 20 mm     20 mm        NA               "
      ]
     },
     "metadata": {},
     "output_type": "display_data"
    }
   ],
   "source": [
    "## Select same columns as vertnet, plus a bit more \n",
    "arctos %<>% dplyr::select(GUID,\n",
    "                          SPECIES,\n",
    "                          SEX,\n",
    "                          STATE_PROV,\n",
    "                          SPEC_LOCALITY,\n",
    "                          DEC_LONG,\n",
    "                          DEC_LAT,\n",
    "                          PARTS,\n",
    "                          AGE_CLASS,\n",
    "                          HAS_TISSUES,\n",
    "                          HABITAT,\n",
    "                          YEAR,\n",
    "                          # other fields that would be under 'attributes' in VERTNET\n",
    "                          TOTAL_LENGTH,\n",
    "                          TAIL_LENGTH,\n",
    "                          HIND_FOOT_WITH_CLAW,\n",
    "                          EAR_FROM_NOTCH,\n",
    "                          WEIGHT) %>%\n",
    "    set_colnames(c(\"ids\",\"scientificname\",\"sex\",\"stateprovince\",\"locality\",\"decimallongitude\",\"decimallatitude\",\n",
    "                   \"preparations\",\"lifestage\",\"hastissue\",\"habitat\",\"year\",\n",
    "                   # Morphological traits\n",
    "                   \"total\",\"tail\",\"hind_foot\",\"ear\",\"weight\")) %>%\n",
    "    mutate(dynamicproperties=NA,ids=gsub(\"*:(\\\\w+):*\",\":\",ids))\n",
    "\n",
    "head(arctos,1)"
   ]
  },
  {
   "cell_type": "markdown",
   "metadata": {},
   "source": [
    "## Find redundant IDs between VERTNET and ARCTOS"
   ]
  },
  {
   "cell_type": "markdown",
   "metadata": {},
   "source": [
    "Let's start by seeing which institutions are uniquely found in VERTNET or ARCTOS"
   ]
  },
  {
   "cell_type": "code",
   "execution_count": 123,
   "metadata": {
    "collapsed": false
   },
   "outputs": [
    {
     "name": "stdout",
     "output_type": "stream",
     "text": [
      "[1] \"Unique to vertnet\"\n"
     ]
    },
    {
     "data": {
      "text/html": [
       "<ol>\n",
       "\t<li>'CAS'</li>\n",
       "\t<li>'CRCM'</li>\n",
       "\t<li>'LACM'</li>\n",
       "\t<li>'MCZ'</li>\n",
       "\t<li>'MSU'</li>\n",
       "\t<li>'NCSM'</li>\n",
       "\t<li>'NYSM'</li>\n",
       "\t<li>'OMNH'</li>\n",
       "\t<li>'PSM'</li>\n",
       "\t<li>'QM'</li>\n",
       "\t<li>'ROM'</li>\n",
       "\t<li>'TTU'</li>\n",
       "\t<li>'University of Alberta Museums'</li>\n",
       "\t<li>'UBCBBM'</li>\n",
       "\t<li>'UMMZ'</li>\n",
       "\t<li>'YPM'</li>\n",
       "\t<li>'CM'</li>\n",
       "\t<li>'KU'</li>\n",
       "\t<li>'AMNH'</li>\n",
       "\t<li>'ASNHC'</li>\n",
       "\t<li>'BPBM'</li>\n",
       "\t<li>'CMN'</li>\n",
       "\t<li>'CSULB'</li>\n",
       "\t<li>'FHSM'</li>\n",
       "\t<li>'FMNH'</li>\n",
       "\t<li>'HSU'</li>\n",
       "\t<li>'ISU'</li>\n",
       "\t<li>'KSTC'</li>\n",
       "\t<li>'LSUMZ'</li>\n",
       "\t<li>'MHNG'</li>\n",
       "\t<li>'NMMNH'</li>\n",
       "\t<li>'\"Ohio State University - Mammal Division, Columbus, OH (OSUM)\"'</li>\n",
       "\t<li>'SBMNH'</li>\n",
       "\t<li>'SDNHM'</li>\n",
       "\t<li>'TCWC'</li>\n",
       "\t<li>'TTRS'</li>\n",
       "\t<li>'UAZ'</li>\n",
       "\t<li>'UCLA'</li>\n",
       "\t<li>'UF'</li>\n",
       "\t<li>'USNM'</li>\n",
       "\t<li>'PBDB'</li>\n",
       "</ol>\n"
      ],
      "text/latex": [
       "\\begin{enumerate}\n",
       "\\item 'CAS'\n",
       "\\item 'CRCM'\n",
       "\\item 'LACM'\n",
       "\\item 'MCZ'\n",
       "\\item 'MSU'\n",
       "\\item 'NCSM'\n",
       "\\item 'NYSM'\n",
       "\\item 'OMNH'\n",
       "\\item 'PSM'\n",
       "\\item 'QM'\n",
       "\\item 'ROM'\n",
       "\\item 'TTU'\n",
       "\\item 'University of Alberta Museums'\n",
       "\\item 'UBCBBM'\n",
       "\\item 'UMMZ'\n",
       "\\item 'YPM'\n",
       "\\item 'CM'\n",
       "\\item 'KU'\n",
       "\\item 'AMNH'\n",
       "\\item 'ASNHC'\n",
       "\\item 'BPBM'\n",
       "\\item 'CMN'\n",
       "\\item 'CSULB'\n",
       "\\item 'FHSM'\n",
       "\\item 'FMNH'\n",
       "\\item 'HSU'\n",
       "\\item 'ISU'\n",
       "\\item 'KSTC'\n",
       "\\item 'LSUMZ'\n",
       "\\item 'MHNG'\n",
       "\\item 'NMMNH'\n",
       "\\item '\"Ohio State University - Mammal Division, Columbus, OH (OSUM)\"'\n",
       "\\item 'SBMNH'\n",
       "\\item 'SDNHM'\n",
       "\\item 'TCWC'\n",
       "\\item 'TTRS'\n",
       "\\item 'UAZ'\n",
       "\\item 'UCLA'\n",
       "\\item 'UF'\n",
       "\\item 'USNM'\n",
       "\\item 'PBDB'\n",
       "\\end{enumerate}\n"
      ],
      "text/markdown": [
       "1. 'CAS'\n",
       "2. 'CRCM'\n",
       "3. 'LACM'\n",
       "4. 'MCZ'\n",
       "5. 'MSU'\n",
       "6. 'NCSM'\n",
       "7. 'NYSM'\n",
       "8. 'OMNH'\n",
       "9. 'PSM'\n",
       "10. 'QM'\n",
       "11. 'ROM'\n",
       "12. 'TTU'\n",
       "13. 'University of Alberta Museums'\n",
       "14. 'UBCBBM'\n",
       "15. 'UMMZ'\n",
       "16. 'YPM'\n",
       "17. 'CM'\n",
       "18. 'KU'\n",
       "19. 'AMNH'\n",
       "20. 'ASNHC'\n",
       "21. 'BPBM'\n",
       "22. 'CMN'\n",
       "23. 'CSULB'\n",
       "24. 'FHSM'\n",
       "25. 'FMNH'\n",
       "26. 'HSU'\n",
       "27. 'ISU'\n",
       "28. 'KSTC'\n",
       "29. 'LSUMZ'\n",
       "30. 'MHNG'\n",
       "31. 'NMMNH'\n",
       "32. '\"Ohio State University - Mammal Division, Columbus, OH (OSUM)\"'\n",
       "33. 'SBMNH'\n",
       "34. 'SDNHM'\n",
       "35. 'TCWC'\n",
       "36. 'TTRS'\n",
       "37. 'UAZ'\n",
       "38. 'UCLA'\n",
       "39. 'UF'\n",
       "40. 'USNM'\n",
       "41. 'PBDB'\n",
       "\n",
       "\n"
      ],
      "text/plain": [
       "[[1]]\n",
       "[1] \"CAS\"\n",
       "\n",
       "[[2]]\n",
       "[1] \"CRCM\"\n",
       "\n",
       "[[3]]\n",
       "[1] \"LACM\"\n",
       "\n",
       "[[4]]\n",
       "[1] \"MCZ\"\n",
       "\n",
       "[[5]]\n",
       "[1] \"MSU\"\n",
       "\n",
       "[[6]]\n",
       "[1] \"NCSM\"\n",
       "\n",
       "[[7]]\n",
       "[1] \"NYSM\"\n",
       "\n",
       "[[8]]\n",
       "[1] \"OMNH\"\n",
       "\n",
       "[[9]]\n",
       "[1] \"PSM\"\n",
       "\n",
       "[[10]]\n",
       "[1] \"QM\"\n",
       "\n",
       "[[11]]\n",
       "[1] \"ROM\"\n",
       "\n",
       "[[12]]\n",
       "[1] \"TTU\"\n",
       "\n",
       "[[13]]\n",
       "[1] \"University of Alberta Museums\"\n",
       "\n",
       "[[14]]\n",
       "[1] \"UBCBBM\"\n",
       "\n",
       "[[15]]\n",
       "[1] \"UMMZ\"\n",
       "\n",
       "[[16]]\n",
       "[1] \"YPM\"\n",
       "\n",
       "[[17]]\n",
       "[1] \"CM\"\n",
       "\n",
       "[[18]]\n",
       "[1] \"KU\"\n",
       "\n",
       "[[19]]\n",
       "[1] \"AMNH\"\n",
       "\n",
       "[[20]]\n",
       "[1] \"ASNHC\"\n",
       "\n",
       "[[21]]\n",
       "[1] \"BPBM\"\n",
       "\n",
       "[[22]]\n",
       "[1] \"CMN\"\n",
       "\n",
       "[[23]]\n",
       "[1] \"CSULB\"\n",
       "\n",
       "[[24]]\n",
       "[1] \"FHSM\"\n",
       "\n",
       "[[25]]\n",
       "[1] \"FMNH\"\n",
       "\n",
       "[[26]]\n",
       "[1] \"HSU\"\n",
       "\n",
       "[[27]]\n",
       "[1] \"ISU\"\n",
       "\n",
       "[[28]]\n",
       "[1] \"KSTC\"\n",
       "\n",
       "[[29]]\n",
       "[1] \"LSUMZ\"\n",
       "\n",
       "[[30]]\n",
       "[1] \"MHNG\"\n",
       "\n",
       "[[31]]\n",
       "[1] \"NMMNH\"\n",
       "\n",
       "[[32]]\n",
       "[1] \"\\\"Ohio State University - Mammal Division, Columbus, OH (OSUM)\\\"\"\n",
       "\n",
       "[[33]]\n",
       "[1] \"SBMNH\"\n",
       "\n",
       "[[34]]\n",
       "[1] \"SDNHM\"\n",
       "\n",
       "[[35]]\n",
       "[1] \"TCWC\"\n",
       "\n",
       "[[36]]\n",
       "[1] \"TTRS\"\n",
       "\n",
       "[[37]]\n",
       "[1] \"UAZ\"\n",
       "\n",
       "[[38]]\n",
       "[1] \"UCLA\"\n",
       "\n",
       "[[39]]\n",
       "[1] \"UF\"\n",
       "\n",
       "[[40]]\n",
       "[1] \"USNM\"\n",
       "\n",
       "[[41]]\n",
       "[1] \"PBDB\"\n"
      ]
     },
     "metadata": {},
     "output_type": "display_data"
    },
    {
     "name": "stdout",
     "output_type": "stream",
     "text": [
      "[1] \"Unique to arctos\"\n"
     ]
    },
    {
     "data": {
      "text/html": [
       "<ol>\n",
       "\t<li>'MVZObs'</li>\n",
       "\t<li>'DGR'</li>\n",
       "\t<li>'UNR'</li>\n",
       "\t<li>'COA'</li>\n",
       "</ol>\n"
      ],
      "text/latex": [
       "\\begin{enumerate}\n",
       "\\item 'MVZObs'\n",
       "\\item 'DGR'\n",
       "\\item 'UNR'\n",
       "\\item 'COA'\n",
       "\\end{enumerate}\n"
      ],
      "text/markdown": [
       "1. 'MVZObs'\n",
       "2. 'DGR'\n",
       "3. 'UNR'\n",
       "4. 'COA'\n",
       "\n",
       "\n"
      ],
      "text/plain": [
       "[[1]]\n",
       "[1] \"MVZObs\"\n",
       "\n",
       "[[2]]\n",
       "[1] \"DGR\"\n",
       "\n",
       "[[3]]\n",
       "[1] \"UNR\"\n",
       "\n",
       "[[4]]\n",
       "[1] \"COA\"\n"
      ]
     },
     "metadata": {},
     "output_type": "display_data"
    }
   ],
   "source": [
    "vertnet_codes = vertnet$ids %>% str_split(\":\")\n",
    "arctos_codes = arctos$ids %>% str_split(\":\")\n",
    "print(\"Unique to vertnet\")\n",
    "unique(vertnet_codes %>% map(1))[!unique(vertnet_codes %>% map(1)) %in% unique(arctos_codes %>% map(1))]\n",
    "print(\"Unique to arctos\")\n",
    "unique(arctos_codes %>% map(1))[!unique(arctos_codes %>% map(1)) %in% unique(vertnet_codes %>% map(1))]"
   ]
  },
  {
   "cell_type": "markdown",
   "metadata": {
    "collapsed": false
   },
   "source": [
    "Now let's combine the datasets, retaining only ARCTOS entries that ARE NOT in vertnet"
   ]
  },
  {
   "cell_type": "code",
   "execution_count": 126,
   "metadata": {
    "collapsed": false
   },
   "outputs": [],
   "source": [
    "full_dataset = rbind(vertnet %>%\n",
    "                     mutate(total=NA,tail=NA,hind_foot=NA,ear=NA,weight=NA),\n",
    "                     arctos %>% \n",
    "                     dplyr::filter(!ids %in% vertnet$ids))"
   ]
  },
  {
   "cell_type": "markdown",
   "metadata": {},
   "source": [
    "## Get morphological data from attributes field"
   ]
  },
  {
   "cell_type": "code",
   "execution_count": 139,
   "metadata": {
    "collapsed": true
   },
   "outputs": [],
   "source": [
    "## First define a few useful functions ##\n",
    "\n",
    "numextract <- function(string){ \n",
    "  str_extract(string, \"\\\\-*\\\\d+\\\\.*\\\\d*\")\n",
    "} \n",
    "\n",
    "# Gets first number appearing after pattern, given input string\n",
    "get_following_number = function(string,pattern){\n",
    "    expr = paste0(\"(?<=\",pattern,\").*\")\n",
    "    val = numextract(str_extract(string=string, pattern=regex(expr,ignore_case = TRUE)))[1]\n",
    "    return(val)\n",
    "}\n",
    "\n",
    "\n",
    "rm_weird_tailvals <- function(df){\n",
    "   df %>% filter(!tail_body_ratio < 0.4) %>% filter (!tail_body_ratio > 1.4)\n",
    "}\n",
    "\n",
    "## Now let's extract data for the different types of formatting we'll see in vertnet ##\n",
    "\n",
    "## 1. '\"{\"\"measurements\"\":\"\"158-63-21-19\"\",\"\"weightInGrams\"\":\"\"19.0\"\" }\"'\n",
    "\n",
    "## 2. 'sex=male ; total length=143 mm; tail length=68 mm; hind foot with claw=17 mm; ear from notch=16 mm; weight=11.5 g'\n",
    "\n",
    "## 3. '\"{\"\"totalLengthInmm\"\":\"\"183\"\", \"\"tailLengthInmm\"\":\"\"99\"\", \"\"hindfootLengthInmm\"\":\"\"23\"\", \"\"earLengthInmm\"\":\"\"15\"\", \"\"weightIn\"\":\"\"X\"\"}\"'\n",
    "\n",
    "## 4. '\"{\"\"earLengthInMM\"\":\"\"16\"\", \"\"hindfootLengthInMM\"\":\"\"20\"\", \"\"tail\"\":\"\"65\"\", \"\"totalLength\"\":\"\"143\"\", \"\"weight\"\":\"\"13.9\"\" }\"'"
   ]
  },
  {
   "cell_type": "code",
   "execution_count": 156,
   "metadata": {
    "collapsed": false
   },
   "outputs": [
    {
     "data": {
      "text/html": [
       "<ol class=list-inline>\n",
       "\t<li>'\"{\"\"measurements\"\":\"\"165-71-19-18=19 g\"\" }\"'</li>\n",
       "\t<li>'unformatted measurements=155-65-21-19=20 g ; sex=male ; reproductive data=Testes not descended'</li>\n",
       "\t<li>'\"{\"\"measurements\"\":\"\"145-60-21-17\"\" }\"'</li>\n",
       "\t<li>'sex=male ; unformatted measurements=170-75-21-20=18 ; SNV results=yes ; verbatim collector=Hantavirus Johns Hopkins University'</li>\n",
       "\t<li>'sex=male ; reproductive data=TD=11x7 ; unformatted measurements=Verbatim weight=24;ToL=166;TaL=73;HF=21;E=21; ; total length=166 mm; tail length=73 mm; hind foot with claw=21 mm; ear from notch=21 mm'</li>\n",
       "\t<li>'\"{\"\"measurements\"\":\"\"144-71-19-18\"\",\"\"weightInGrams\"\":\"\"21.3\"\" }\"'</li>\n",
       "\t<li>'unformatted measurements=161-69-19-16=32 g ; sex=male ; reproductive data=Testes descended - 6x2 mm'</li>\n",
       "\t<li>'\"{\"\"measurements\"\":\"\"150-70-19-17\"\" }\"'</li>\n",
       "\t<li>'\"verbatim collector=J.J. Mooney ; sex=unknown ; unformatted measurements=L: 148, T: 65, HF: 19 ; total length=148 mm; tail length=65 mm; hind foot with claw=19 mm\"'</li>\n",
       "\t<li>'\"{\"\"measurements\"\":\"\"150-65-20-17\"\" }\"'</li>\n",
       "</ol>\n"
      ],
      "text/latex": [
       "\\begin{enumerate*}\n",
       "\\item '\"\\{\"\"measurements\"\":\"\"165-71-19-18=19 g\"\" \\}\"'\n",
       "\\item 'unformatted measurements=155-65-21-19=20 g ; sex=male ; reproductive data=Testes not descended'\n",
       "\\item '\"\\{\"\"measurements\"\":\"\"145-60-21-17\"\" \\}\"'\n",
       "\\item 'sex=male ; unformatted measurements=170-75-21-20=18 ; SNV results=yes ; verbatim collector=Hantavirus Johns Hopkins University'\n",
       "\\item 'sex=male ; reproductive data=TD=11x7 ; unformatted measurements=Verbatim weight=24;ToL=166;TaL=73;HF=21;E=21; ; total length=166 mm; tail length=73 mm; hind foot with claw=21 mm; ear from notch=21 mm'\n",
       "\\item '\"\\{\"\"measurements\"\":\"\"144-71-19-18\"\",\"\"weightInGrams\"\":\"\"21.3\"\" \\}\"'\n",
       "\\item 'unformatted measurements=161-69-19-16=32 g ; sex=male ; reproductive data=Testes descended - 6x2 mm'\n",
       "\\item '\"\\{\"\"measurements\"\":\"\"150-70-19-17\"\" \\}\"'\n",
       "\\item '\"verbatim collector=J.J. Mooney ; sex=unknown ; unformatted measurements=L: 148, T: 65, HF: 19 ; total length=148 mm; tail length=65 mm; hind foot with claw=19 mm\"'\n",
       "\\item '\"\\{\"\"measurements\"\":\"\"150-65-20-17\"\" \\}\"'\n",
       "\\end{enumerate*}\n"
      ],
      "text/markdown": [
       "1. '\"{\"\"measurements\"\":\"\"165-71-19-18=19 g\"\" }\"'\n",
       "2. 'unformatted measurements=155-65-21-19=20 g ; sex=male ; reproductive data=Testes not descended'\n",
       "3. '\"{\"\"measurements\"\":\"\"145-60-21-17\"\" }\"'\n",
       "4. 'sex=male ; unformatted measurements=170-75-21-20=18 ; SNV results=yes ; verbatim collector=Hantavirus Johns Hopkins University'\n",
       "5. 'sex=male ; reproductive data=TD=11x7 ; unformatted measurements=Verbatim weight=24;ToL=166;TaL=73;HF=21;E=21; ; total length=166 mm; tail length=73 mm; hind foot with claw=21 mm; ear from notch=21 mm'\n",
       "6. '\"{\"\"measurements\"\":\"\"144-71-19-18\"\",\"\"weightInGrams\"\":\"\"21.3\"\" }\"'\n",
       "7. 'unformatted measurements=161-69-19-16=32 g ; sex=male ; reproductive data=Testes descended - 6x2 mm'\n",
       "8. '\"{\"\"measurements\"\":\"\"150-70-19-17\"\" }\"'\n",
       "9. '\"verbatim collector=J.J. Mooney ; sex=unknown ; unformatted measurements=L: 148, T: 65, HF: 19 ; total length=148 mm; tail length=65 mm; hind foot with claw=19 mm\"'\n",
       "10. '\"{\"\"measurements\"\":\"\"150-65-20-17\"\" }\"'\n",
       "\n",
       "\n"
      ],
      "text/plain": [
       " [1] \"\\\"{\\\"\\\"measurements\\\"\\\":\\\"\\\"165-71-19-18=19 g\\\"\\\" }\\\"\"                                                                                                                                                  \n",
       " [2] \"unformatted measurements=155-65-21-19=20 g ; sex=male ; reproductive data=Testes not descended\"                                                                                                         \n",
       " [3] \"\\\"{\\\"\\\"measurements\\\"\\\":\\\"\\\"145-60-21-17\\\"\\\" }\\\"\"                                                                                                                                                       \n",
       " [4] \"sex=male ; unformatted measurements=170-75-21-20=18 ; SNV results=yes ; verbatim collector=Hantavirus Johns Hopkins University\"                                                                         \n",
       " [5] \"sex=male ; reproductive data=TD=11x7 ; unformatted measurements=Verbatim weight=24;ToL=166;TaL=73;HF=21;E=21; ; total length=166 mm; tail length=73 mm; hind foot with claw=21 mm; ear from notch=21 mm\"\n",
       " [6] \"\\\"{\\\"\\\"measurements\\\"\\\":\\\"\\\"144-71-19-18\\\"\\\",\\\"\\\"weightInGrams\\\"\\\":\\\"\\\"21.3\\\"\\\" }\\\"\"                                                                                                                    \n",
       " [7] \"unformatted measurements=161-69-19-16=32 g ; sex=male ; reproductive data=Testes descended - 6x2 mm\"                                                                                                    \n",
       " [8] \"\\\"{\\\"\\\"measurements\\\"\\\":\\\"\\\"150-70-19-17\\\"\\\" }\\\"\"                                                                                                                                                       \n",
       " [9] \"\\\"verbatim collector=J.J. Mooney ; sex=unknown ; unformatted measurements=L: 148, T: 65, HF: 19 ; total length=148 mm; tail length=65 mm; hind foot with claw=19 mm\\\"\"                                  \n",
       "[10] \"\\\"{\\\"\\\"measurements\\\"\\\":\\\"\\\"150-65-20-17\\\"\\\" }\\\"\"                                                                                                                                                       "
      ]
     },
     "metadata": {},
     "output_type": "display_data"
    }
   ],
   "source": [
    "h = grep(\"measurements\",full_dataset$dynamicproperties)\n",
    "full_dataset$dynamicproperties[h[sample(1:length(h),10)]]"
   ]
  },
  {
   "cell_type": "code",
   "execution_count": 163,
   "metadata": {
    "collapsed": false
   },
   "outputs": [
    {
     "data": {
      "text/html": [
       "'165'"
      ],
      "text/latex": [
       "'165'"
      ],
      "text/markdown": [
       "'165'"
      ],
      "text/plain": [
       "[1] \"165\""
      ]
     },
     "metadata": {},
     "output_type": "display_data"
    },
    {
     "data": {
      "text/html": [
       "'165'"
      ],
      "text/latex": [
       "'165'"
      ],
      "text/markdown": [
       "'165'"
      ],
      "text/plain": [
       "[1] \"165\""
      ]
     },
     "metadata": {},
     "output_type": "display_data"
    }
   ],
   "source": [
    "test='\"{\"\"measurements\"\":\"\"165-71-19-18=19 g\"\" }\"'\n",
    "\n",
    "str_extract(test,regex(,ignore_case=TRUE))"
   ]
  },
  {
   "cell_type": "code",
   "execution_count": 130,
   "metadata": {
    "collapsed": false
   },
   "outputs": [
    {
     "data": {
      "text/html": [
       "<ol class=list-inline>\n",
       "\t<li>'sex=female'</li>\n",
       "\t<li>'ear from notch=23 mm; hind foot with claw=26 mm; tail length=95 mm; total length=190 mm; reproductive data=Emb. nodules 6 mm ; verbatim collector=R. L. &amp; V. R. Rausch ; verbatim collector=R. L. &amp; V. R. Rausch 49385 ; sex=female'</li>\n",
       "\t<li>'sex=male'</li>\n",
       "\t<li>''</li>\n",
       "\t<li>NA</li>\n",
       "\t<li>'sex=male ; total length=136 mm; tail length=66 mm; hind foot with claw=70 mm; ear from notch=15 mm; weight=13.5 g'</li>\n",
       "\t<li>''</li>\n",
       "\t<li>''</li>\n",
       "\t<li>'ear from notch=14 mm; hind foot with claw=21 mm; tail length=66 mm; total length=143 mm; verbatim collector=L. S. Miller ; verbatim collector=L. S. Miller 7-29-XII-49 ; sex=female'</li>\n",
       "\t<li>NA</li>\n",
       "</ol>\n"
      ],
      "text/latex": [
       "\\begin{enumerate*}\n",
       "\\item 'sex=female'\n",
       "\\item 'ear from notch=23 mm; hind foot with claw=26 mm; tail length=95 mm; total length=190 mm; reproductive data=Emb. nodules 6 mm ; verbatim collector=R. L. \\& V. R. Rausch ; verbatim collector=R. L. \\& V. R. Rausch 49385 ; sex=female'\n",
       "\\item 'sex=male'\n",
       "\\item ''\n",
       "\\item NA\n",
       "\\item 'sex=male ; total length=136 mm; tail length=66 mm; hind foot with claw=70 mm; ear from notch=15 mm; weight=13.5 g'\n",
       "\\item ''\n",
       "\\item ''\n",
       "\\item 'ear from notch=14 mm; hind foot with claw=21 mm; tail length=66 mm; total length=143 mm; verbatim collector=L. S. Miller ; verbatim collector=L. S. Miller 7-29-XII-49 ; sex=female'\n",
       "\\item NA\n",
       "\\end{enumerate*}\n"
      ],
      "text/markdown": [
       "1. 'sex=female'\n",
       "2. 'ear from notch=23 mm; hind foot with claw=26 mm; tail length=95 mm; total length=190 mm; reproductive data=Emb. nodules 6 mm ; verbatim collector=R. L. &amp; V. R. Rausch ; verbatim collector=R. L. &amp; V. R. Rausch 49385 ; sex=female'\n",
       "3. 'sex=male'\n",
       "4. ''\n",
       "5. NA\n",
       "6. 'sex=male ; total length=136 mm; tail length=66 mm; hind foot with claw=70 mm; ear from notch=15 mm; weight=13.5 g'\n",
       "7. ''\n",
       "8. ''\n",
       "9. 'ear from notch=14 mm; hind foot with claw=21 mm; tail length=66 mm; total length=143 mm; verbatim collector=L. S. Miller ; verbatim collector=L. S. Miller 7-29-XII-49 ; sex=female'\n",
       "10. NA\n",
       "\n",
       "\n"
      ],
      "text/plain": [
       " [1] \"sex=female\"                                                                                                                                                                                                                         \n",
       " [2] \"ear from notch=23 mm; hind foot with claw=26 mm; tail length=95 mm; total length=190 mm; reproductive data=Emb. nodules 6 mm ; verbatim collector=R. L. & V. R. Rausch ; verbatim collector=R. L. & V. R. Rausch 49385 ; sex=female\"\n",
       " [3] \"sex=male\"                                                                                                                                                                                                                           \n",
       " [4] \"\"                                                                                                                                                                                                                                   \n",
       " [5] NA                                                                                                                                                                                                                                   \n",
       " [6] \"sex=male ; total length=136 mm; tail length=66 mm; hind foot with claw=70 mm; ear from notch=15 mm; weight=13.5 g\"                                                                                                                  \n",
       " [7] \"\"                                                                                                                                                                                                                                   \n",
       " [8] \"\"                                                                                                                                                                                                                                   \n",
       " [9] \"ear from notch=14 mm; hind foot with claw=21 mm; tail length=66 mm; total length=143 mm; verbatim collector=L. S. Miller ; verbatim collector=L. S. Miller 7-29-XII-49 ; sex=female\"                                                \n",
       "[10] NA                                                                                                                                                                                                                                   "
      ]
     },
     "metadata": {},
     "output_type": "display_data"
    }
   ],
   "source": [
    "full_dataset$dynamicproperties[sample(1:nrow(full_dataset),10)]"
   ]
  },
  {
   "cell_type": "code",
   "execution_count": null,
   "metadata": {
    "collapsed": true
   },
   "outputs": [],
   "source": [
    "vertnet$tail_length <- sapply(vertnet$dynamicproperties,function(x){numextract(str_extract(string=x, pattern=regex(\"(?<=tail).*\",ignore_case = TRUE)))[1]})\n",
    "\n",
    "# This will capture a bunch of entries formatted as {\"measurements\":\"135-60-19-16\", \"weightInGrams\":\"16.2\" } #\n",
    "NAvalues <- is.na(vertnet$tail_length)\n",
    "vertnet[NAvalues,\"tail_length\"] <- sapply(vertnet[NAvalues,\"dynamicproperties\"],function(x){numextract(str_extract(string=x, pattern=regex(\"(?<=\\\"measurements\\\":).*\",ignore_case = TRUE)))[2]})\n",
    "vertnet$tail_length <- as.numeric(as.character(vertnet$tail_length))\n",
    "\n",
    "# Get body length data, same approach as with tail #\n",
    "# 1. \n",
    "vertnet$body_length <- as.numeric(as.character(sapply(vertnet$dynamicproperties,function(x){numextract(str_extract(string=x, pattern=regex(\"(?<=total).*\",ignore_case = TRUE)))[1]}))) - vertnet$tail_length\n",
    "# 2.\n",
    "NAvalues <- is.na(vertnet$body_length)\n",
    "vertnet[NAvalues,\"body_length\"] <- as.numeric(as.character(sapply(vertnet[NAvalues,\"dynamicproperties\"],function(x){numextract(str_extract(string=x, pattern=regex(\"(?<=\\\"measurements\\\":).*\",ignore_case = TRUE)))[1]}))) - vertnet[NAvalues,\"tail_length\"]\n",
    "\n",
    "# Now the golden ratio #\n",
    "vertnet$tail_body_ratio <- vertnet$tail_length/vertnet$body_length"
   ]
  },
  {
   "cell_type": "markdown",
   "metadata": {
    "collapsed": true
   },
   "source": [
    "## Burke -- redundant, no longer needed"
   ]
  },
  {
   "cell_type": "code",
   "execution_count": 20,
   "metadata": {
    "collapsed": false
   },
   "outputs": [
    {
     "data": {
      "text/html": [
       "<table>\n",
       "<thead><tr><th scope=col>ids</th><th scope=col>scientificname</th><th scope=col>sex</th><th scope=col>stateprovince</th><th scope=col>locality</th><th scope=col>decimallongitude</th><th scope=col>decimallatitude</th><th scope=col>preparations</th><th scope=col>lifestage</th><th scope=col>year</th><th scope=col>total</th><th scope=col>tail</th><th scope=col>hind_foot</th><th scope=col>ear</th><th scope=col>weight</th><th scope=col>hastissue</th><th scope=col>habitat</th><th scope=col>dynamicproperties</th></tr></thead>\n",
       "<tbody>\n",
       "\t<tr><td>UWBM:Mamm:72501       </td><td>Peromyscus maniculatus</td><td>female                </td><td>Washington            </td><td>Frenchman Coulee      </td><td>-119.9833             </td><td>47.01667              </td><td>skin/skull/body skel  </td><td>adult                 </td><td>5/13/94               </td><td>167                   </td><td>80                    </td><td>20                    </td><td>18                    </td><td>23                    </td><td>NA                    </td><td>NA                    </td><td>NA                    </td></tr>\n",
       "\t<tr><td>UWBM:Mamm:72502       </td><td>Peromyscus maniculatus</td><td>male                  </td><td>Washington            </td><td>Frenchman Coulee      </td><td>-119.9833             </td><td>47.01667              </td><td>skin/skull/body skel  </td><td>adult                 </td><td>5/13/94               </td><td>156                   </td><td>73                    </td><td>20                    </td><td>16                    </td><td>24                    </td><td>NA                    </td><td>NA                    </td><td>NA                    </td></tr>\n",
       "\t<tr><td>UWBM:Mamm:72503       </td><td>Peromyscus maniculatus</td><td>male                  </td><td>Washington            </td><td>Frenchman Coulee      </td><td>-119.9833             </td><td>47.01667              </td><td>skin/skull/body skel  </td><td>adult                 </td><td>5/13/94               </td><td>150                   </td><td>67                    </td><td>21                    </td><td>16                    </td><td>20                    </td><td>NA                    </td><td>NA                    </td><td>NA                    </td></tr>\n",
       "\t<tr><td>UWBM:Mamm:72504       </td><td>Peromyscus maniculatus</td><td>female                </td><td>Washington            </td><td>Frenchman Coulee      </td><td>-119.9833             </td><td>47.01667              </td><td>skin/skull/body skel  </td><td>adult                 </td><td>5/13/94               </td><td>159                   </td><td>68                    </td><td>19                    </td><td>17                    </td><td>20                    </td><td>NA                    </td><td>NA                    </td><td>NA                    </td></tr>\n",
       "\t<tr><td>UWBM:Mamm:72505       </td><td>Peromyscus maniculatus</td><td>male                  </td><td>Washington            </td><td>Frenchman Coulee      </td><td>-119.9833             </td><td>47.01667              </td><td>skin/skull/body skel  </td><td>adult                 </td><td>5/13/94               </td><td>155                   </td><td>68                    </td><td>20                    </td><td>17                    </td><td>23                    </td><td>NA                    </td><td>NA                    </td><td>NA                    </td></tr>\n",
       "\t<tr><td>UWBM:Mamm:72506       </td><td>Peromyscus maniculatus</td><td>female                </td><td>Washington            </td><td>Frenchman Coulee      </td><td>-119.9833             </td><td>47.01667              </td><td>skin/skull/body skel  </td><td>adult                 </td><td>5/13/94               </td><td>161                   </td><td>70                    </td><td>20                    </td><td>19                    </td><td>21                    </td><td>NA                    </td><td>NA                    </td><td>NA                    </td></tr>\n",
       "</tbody>\n",
       "</table>\n"
      ],
      "text/latex": [
       "\\begin{tabular}{r|llllllllllllllllll}\n",
       " ids & scientificname & sex & stateprovince & locality & decimallongitude & decimallatitude & preparations & lifestage & year & total & tail & hind\\_foot & ear & weight & hastissue & habitat & dynamicproperties\\\\\n",
       "\\hline\n",
       "\t UWBM:Mamm:72501        & Peromyscus maniculatus & female                 & Washington             & Frenchman Coulee       & -119.9833              & 47.01667               & skin/skull/body skel   & adult                  & 5/13/94                & 167                    & 80                     & 20                     & 18                     & 23                     & NA                     & NA                     & NA                    \\\\\n",
       "\t UWBM:Mamm:72502        & Peromyscus maniculatus & male                   & Washington             & Frenchman Coulee       & -119.9833              & 47.01667               & skin/skull/body skel   & adult                  & 5/13/94                & 156                    & 73                     & 20                     & 16                     & 24                     & NA                     & NA                     & NA                    \\\\\n",
       "\t UWBM:Mamm:72503        & Peromyscus maniculatus & male                   & Washington             & Frenchman Coulee       & -119.9833              & 47.01667               & skin/skull/body skel   & adult                  & 5/13/94                & 150                    & 67                     & 21                     & 16                     & 20                     & NA                     & NA                     & NA                    \\\\\n",
       "\t UWBM:Mamm:72504        & Peromyscus maniculatus & female                 & Washington             & Frenchman Coulee       & -119.9833              & 47.01667               & skin/skull/body skel   & adult                  & 5/13/94                & 159                    & 68                     & 19                     & 17                     & 20                     & NA                     & NA                     & NA                    \\\\\n",
       "\t UWBM:Mamm:72505        & Peromyscus maniculatus & male                   & Washington             & Frenchman Coulee       & -119.9833              & 47.01667               & skin/skull/body skel   & adult                  & 5/13/94                & 155                    & 68                     & 20                     & 17                     & 23                     & NA                     & NA                     & NA                    \\\\\n",
       "\t UWBM:Mamm:72506        & Peromyscus maniculatus & female                 & Washington             & Frenchman Coulee       & -119.9833              & 47.01667               & skin/skull/body skel   & adult                  & 5/13/94                & 161                    & 70                     & 20                     & 19                     & 21                     & NA                     & NA                     & NA                    \\\\\n",
       "\\end{tabular}\n"
      ],
      "text/markdown": [
       "\n",
       "ids | scientificname | sex | stateprovince | locality | decimallongitude | decimallatitude | preparations | lifestage | year | total | tail | hind_foot | ear | weight | hastissue | habitat | dynamicproperties | \n",
       "|---|---|---|---|---|---|\n",
       "| UWBM:Mamm:72501        | Peromyscus maniculatus | female                 | Washington             | Frenchman Coulee       | -119.9833              | 47.01667               | skin/skull/body skel   | adult                  | 5/13/94                | 167                    | 80                     | 20                     | 18                     | 23                     | NA                     | NA                     | NA                     | \n",
       "| UWBM:Mamm:72502        | Peromyscus maniculatus | male                   | Washington             | Frenchman Coulee       | -119.9833              | 47.01667               | skin/skull/body skel   | adult                  | 5/13/94                | 156                    | 73                     | 20                     | 16                     | 24                     | NA                     | NA                     | NA                     | \n",
       "| UWBM:Mamm:72503        | Peromyscus maniculatus | male                   | Washington             | Frenchman Coulee       | -119.9833              | 47.01667               | skin/skull/body skel   | adult                  | 5/13/94                | 150                    | 67                     | 21                     | 16                     | 20                     | NA                     | NA                     | NA                     | \n",
       "| UWBM:Mamm:72504        | Peromyscus maniculatus | female                 | Washington             | Frenchman Coulee       | -119.9833              | 47.01667               | skin/skull/body skel   | adult                  | 5/13/94                | 159                    | 68                     | 19                     | 17                     | 20                     | NA                     | NA                     | NA                     | \n",
       "| UWBM:Mamm:72505        | Peromyscus maniculatus | male                   | Washington             | Frenchman Coulee       | -119.9833              | 47.01667               | skin/skull/body skel   | adult                  | 5/13/94                | 155                    | 68                     | 20                     | 17                     | 23                     | NA                     | NA                     | NA                     | \n",
       "| UWBM:Mamm:72506        | Peromyscus maniculatus | female                 | Washington             | Frenchman Coulee       | -119.9833              | 47.01667               | skin/skull/body skel   | adult                  | 5/13/94                | 161                    | 70                     | 20                     | 19                     | 21                     | NA                     | NA                     | NA                     | \n",
       "\n",
       "\n"
      ],
      "text/plain": [
       "  ids             scientificname         sex    stateprovince locality        \n",
       "1 UWBM:Mamm:72501 Peromyscus maniculatus female Washington    Frenchman Coulee\n",
       "2 UWBM:Mamm:72502 Peromyscus maniculatus male   Washington    Frenchman Coulee\n",
       "3 UWBM:Mamm:72503 Peromyscus maniculatus male   Washington    Frenchman Coulee\n",
       "4 UWBM:Mamm:72504 Peromyscus maniculatus female Washington    Frenchman Coulee\n",
       "5 UWBM:Mamm:72505 Peromyscus maniculatus male   Washington    Frenchman Coulee\n",
       "6 UWBM:Mamm:72506 Peromyscus maniculatus female Washington    Frenchman Coulee\n",
       "  decimallongitude decimallatitude preparations         lifestage year    total\n",
       "1 -119.9833        47.01667        skin/skull/body skel adult     5/13/94 167  \n",
       "2 -119.9833        47.01667        skin/skull/body skel adult     5/13/94 156  \n",
       "3 -119.9833        47.01667        skin/skull/body skel adult     5/13/94 150  \n",
       "4 -119.9833        47.01667        skin/skull/body skel adult     5/13/94 159  \n",
       "5 -119.9833        47.01667        skin/skull/body skel adult     5/13/94 155  \n",
       "6 -119.9833        47.01667        skin/skull/body skel adult     5/13/94 161  \n",
       "  tail hind_foot ear weight hastissue habitat dynamicproperties\n",
       "1 80   20        18  23     NA        NA      NA               \n",
       "2 73   20        16  24     NA        NA      NA               \n",
       "3 67   21        16  20     NA        NA      NA               \n",
       "4 68   19        17  20     NA        NA      NA               \n",
       "5 68   20        17  23     NA        NA      NA               \n",
       "6 70   20        19  21     NA        NA      NA               "
      ]
     },
     "metadata": {},
     "output_type": "display_data"
    }
   ],
   "source": [
    "burke <- read.csv(\"BurkeMammalData011818-0842.csv\")\n",
    "\n",
    "burke %<>% \n",
    "    mutate(ids=paste(\"UWBM\",\"Mamm\",UWBM,sep=\":\")) %>%\n",
    "    dplyr::select(ids,Scientific.Name,Sex,State,Locality,Longitude,Latitude,Preparation,Age,Date,Total.Length,Tail.Vertical.Length,Foot.Length,Ear.Length,Weight) %>%\n",
    "    set_colnames(c(\"ids\",\"scientificname\",\"sex\",\"stateprovince\",\"locality\",\"decimallongitude\",\"decimallatitude\",\n",
    "                   \"preparations\",\"lifestage\",\"year\",\"total\",\"tail\",\"hind_foot\",\"ear\",\"weight\")) %>%\n",
    "    mutate(hastissue=NA,habitat=NA,dynamicproperties=NA)\n",
    "\n",
    "head(burke)   "
   ]
  },
  {
   "cell_type": "markdown",
   "metadata": {},
   "source": []
  }
 ],
 "metadata": {
  "kernelspec": {
   "display_name": "R",
   "language": "R",
   "name": "ir"
  },
  "language_info": {
   "codemirror_mode": "r",
   "file_extension": ".r",
   "mimetype": "text/x-r-source",
   "name": "R",
   "pygments_lexer": "r",
   "version": "3.4.2"
  }
 },
 "nbformat": 4,
 "nbformat_minor": 2
}
