{
 "cells": [
  {
   "cell_type": "markdown",
   "metadata": {},
   "source": [
    "# Visualizing the distribution of _P. maniculatus_ museum specimens in North America\n",
    "\n",
    "This notebook pulls in prepared data from arctos, vertnet, and other resources (see X) & plots it on maps of North America using leaflet. These maps are interactive and easy to explore. "
   ]
  },
  {
   "cell_type": "code",
   "execution_count": 16,
   "metadata": {},
   "outputs": [
    {
     "name": "stderr",
     "output_type": "stream",
     "text": [
      "Installing package into ‘/n/home11/twooldridge/apps/R’\n",
      "(as ‘lib’ is unspecified)\n"
     ]
    }
   ],
   "source": [
    "install.packages(\"formattable\")"
   ]
  },
  {
   "cell_type": "code",
   "execution_count": 17,
   "metadata": {
    "collapsed": true
   },
   "outputs": [],
   "source": [
    "library(dplyr)\n",
    "library(magrittr)\n",
    "library(leaflet)\n",
    "library(glue)\n",
    "library(htmltools)\n",
    "library(stringr)\n",
    "library(wesanderson)\n",
    "library(repr)\n",
    "library(knitr)\n",
    "library(formattable)"
   ]
  },
  {
   "cell_type": "markdown",
   "metadata": {},
   "source": [
    "Let's read in the data and see what it looks like (again, this is already curated from other scripts)"
   ]
  },
  {
   "cell_type": "code",
   "execution_count": 3,
   "metadata": {},
   "outputs": [
    {
     "data": {
      "text/html": [
       "<table>\n",
       "<thead><tr><th scope=col>ids</th><th scope=col>scientificname</th><th scope=col>sex</th><th scope=col>stateprovince</th><th scope=col>locality</th><th scope=col>decimallongitude</th><th scope=col>decimallatitude</th><th scope=col>preparations</th><th scope=col>lifestage</th><th scope=col>hastissue</th><th scope=col>⋯</th><th scope=col>habitat</th><th scope=col>year</th><th scope=col>total</th><th scope=col>tail</th><th scope=col>foot</th><th scope=col>ear</th><th scope=col>weight</th><th scope=col>body</th><th scope=col>ID</th><th scope=col>NA_NALCMS_LC_30m_LAEA_mmu12_urb05</th></tr></thead>\n",
       "<tbody>\n",
       "\t<tr><td>UCONN:916                                    </td><td>Peromyscus maniculatus                       </td><td>female                                       </td><td>Tennessee                                    </td><td>Cove Hardwoods along Ramsey Prong; G.S.M.N.P.</td><td>NA                                           </td><td>NA                                           </td><td>Skull and mandible | Skull and mandible      </td><td>adult                                        </td><td>0                                            </td><td>⋯                                            </td><td>NA                                           </td><td>  11                                         </td><td>187                                          </td><td>97                                           </td><td>21.5                                         </td><td>NA                                           </td><td>22.1                                         </td><td>NA                                           </td><td>NA                                           </td><td>NA                                           </td></tr>\n",
       "\t<tr><td>UCONN:952                                    </td><td>Peromyscus maniculatus                       </td><td>male                                         </td><td>Utah                                         </td><td>60 mi. W Delta, Sarcohatus; White Valley     </td><td>NA                                           </td><td>NA                                           </td><td>Skin only | Skin only                        </td><td>NA                                           </td><td>0                                            </td><td>⋯                                            </td><td>NA                                           </td><td>1939                                         </td><td>151                                          </td><td>70                                           </td><td>20.0                                         </td><td>NA                                           </td><td>  NA                                         </td><td>NA                                           </td><td>NA                                           </td><td>NA                                           </td></tr>\n",
       "\t<tr><td>UCONN:958                                    </td><td>Peromyscus maniculatus                       </td><td>female                                       </td><td>Tennessee                                    </td><td>hemlock, trail to trilium gop.; G.S.M.N.P.   </td><td>NA                                           </td><td>NA                                           </td><td>Skin | Skin                                  </td><td>adult                                        </td><td>0                                            </td><td>⋯                                            </td><td>NA                                           </td><td>  NA                                         </td><td>180                                          </td><td>92                                           </td><td>20.5                                         </td><td>NA                                           </td><td>27.7                                         </td><td>NA                                           </td><td>NA                                           </td><td>NA                                           </td></tr>\n",
       "</tbody>\n",
       "</table>\n"
      ],
      "text/latex": [
       "\\begin{tabular}{r|lllllllllllllllllllll}\n",
       " ids & scientificname & sex & stateprovince & locality & decimallongitude & decimallatitude & preparations & lifestage & hastissue & ⋯ & habitat & year & total & tail & foot & ear & weight & body & ID & NA\\_NALCMS\\_LC\\_30m\\_LAEA\\_mmu12\\_urb05\\\\\n",
       "\\hline\n",
       "\t UCONN:916                                         & Peromyscus maniculatus                            & female                                            & Tennessee                                         & Cove Hardwoods along Ramsey Prong; G.S.M.N.P.     & NA                                                & NA                                                & Skull and mandible \\textbar{} Skull and mandible & adult                                             & 0                                                 & ⋯                                                 & NA                                                &   11                                              & 187                                               & 97                                                & 21.5                                              & NA                                                & 22.1                                              & NA                                                & NA                                                & NA                                               \\\\\n",
       "\t UCONN:952                                         & Peromyscus maniculatus                            & male                                              & Utah                                              & 60 mi. W Delta, Sarcohatus; White Valley          & NA                                                & NA                                                & Skin only \\textbar{} Skin only                   & NA                                                & 0                                                 & ⋯                                                 & NA                                                & 1939                                              & 151                                               & 70                                                & 20.0                                              & NA                                                &   NA                                              & NA                                                & NA                                                & NA                                               \\\\\n",
       "\t UCONN:958                                         & Peromyscus maniculatus                            & female                                            & Tennessee                                         & hemlock, trail to trilium gop.; G.S.M.N.P.        & NA                                                & NA                                                & Skin \\textbar{} Skin                             & adult                                             & 0                                                 & ⋯                                                 & NA                                                &   NA                                              & 180                                               & 92                                                & 20.5                                              & NA                                                & 27.7                                              & NA                                                & NA                                                & NA                                               \\\\\n",
       "\\end{tabular}\n"
      ],
      "text/markdown": [
       "\n",
       "ids | scientificname | sex | stateprovince | locality | decimallongitude | decimallatitude | preparations | lifestage | hastissue | ⋯ | habitat | year | total | tail | foot | ear | weight | body | ID | NA_NALCMS_LC_30m_LAEA_mmu12_urb05 | \n",
       "|---|---|---|\n",
       "| UCONN:916                                     | Peromyscus maniculatus                        | female                                        | Tennessee                                     | Cove Hardwoods along Ramsey Prong; G.S.M.N.P. | NA                                            | NA                                            | Skull and mandible | Skull and mandible       | adult                                         | 0                                             | ⋯                                             | NA                                            |   11                                          | 187                                           | 97                                            | 21.5                                          | NA                                            | 22.1                                          | NA                                            | NA                                            | NA                                            | \n",
       "| UCONN:952                                     | Peromyscus maniculatus                        | male                                          | Utah                                          | 60 mi. W Delta, Sarcohatus; White Valley      | NA                                            | NA                                            | Skin only | Skin only                         | NA                                            | 0                                             | ⋯                                             | NA                                            | 1939                                          | 151                                           | 70                                            | 20.0                                          | NA                                            |   NA                                          | NA                                            | NA                                            | NA                                            | \n",
       "| UCONN:958                                     | Peromyscus maniculatus                        | female                                        | Tennessee                                     | hemlock, trail to trilium gop.; G.S.M.N.P.    | NA                                            | NA                                            | Skin | Skin                                   | adult                                         | 0                                             | ⋯                                             | NA                                            |   NA                                          | 180                                           | 92                                            | 20.5                                          | NA                                            | 27.7                                          | NA                                            | NA                                            | NA                                            | \n",
       "\n",
       "\n"
      ],
      "text/plain": [
       "  ids       scientificname         sex    stateprovince\n",
       "1 UCONN:916 Peromyscus maniculatus female Tennessee    \n",
       "2 UCONN:952 Peromyscus maniculatus male   Utah         \n",
       "3 UCONN:958 Peromyscus maniculatus female Tennessee    \n",
       "  locality                                      decimallongitude\n",
       "1 Cove Hardwoods along Ramsey Prong; G.S.M.N.P. NA              \n",
       "2 60 mi. W Delta, Sarcohatus; White Valley      NA              \n",
       "3 hemlock, trail to trilium gop.; G.S.M.N.P.    NA              \n",
       "  decimallatitude preparations                            lifestage hastissue ⋯\n",
       "1 NA              Skull and mandible | Skull and mandible adult     0         ⋯\n",
       "2 NA              Skin only | Skin only                   NA        0         ⋯\n",
       "3 NA              Skin | Skin                             adult     0         ⋯\n",
       "  habitat year total tail foot ear weight body ID\n",
       "1 NA        11 187   97   21.5 NA  22.1   NA   NA\n",
       "2 NA      1939 151   70   20.0 NA    NA   NA   NA\n",
       "3 NA        NA 180   92   20.5 NA  27.7   NA   NA\n",
       "  NA_NALCMS_LC_30m_LAEA_mmu12_urb05\n",
       "1 NA                               \n",
       "2 NA                               \n",
       "3 NA                               "
      ]
     },
     "metadata": {},
     "output_type": "display_data"
    }
   ],
   "source": [
    "## This file is a list of samples with geocoded locations (when necessary), as well as raster data\n",
    "all_samples <- read.delim(\"~/museum_data/samples_w_raster.txt\")\n",
    "head(all_samples,3)"
   ]
  },
  {
   "cell_type": "markdown",
   "metadata": {},
   "source": [
    "Let's go ahead and plot the entire dataset, before we do any filtering or anything fancy. First we'll start with grouping by long/lat, and we can scall the point size to the number of individuals at a location"
   ]
  },
  {
   "cell_type": "code",
   "execution_count": 7,
   "metadata": {},
   "outputs": [
    {
     "data": {
      "text/html": [
       "<table>\n",
       "<thead><tr><th scope=col>decimallatitude</th><th scope=col>decimallongitude</th><th scope=col>n</th><th scope=col>samples</th></tr></thead>\n",
       "<tbody>\n",
       "\t<tr><td>-26.79118                                                                                                    </td><td>-60.44713                                                                                                    </td><td>6                                                                                                            </td><td>TTU:31002&lt;br/&gt;TTU:31003&lt;br/&gt;TTU:31005&lt;br/&gt;TTU:31004&lt;br/&gt;TTU:31000&lt;br/&gt;TTU:31001</td></tr>\n",
       "\t<tr><td> 16.96416                                                                      </td><td>-96.82777                                                                      </td><td>1                                                                              </td><td>CAS:10986                                                                      </td></tr>\n",
       "\t<tr><td> 17.21666                                                                      </td><td>-97.74527                                                                      </td><td>1                                                                              </td><td>CAS:14235                                                                      </td></tr>\n",
       "</tbody>\n",
       "</table>\n"
      ],
      "text/latex": [
       "\\begin{tabular}{r|llll}\n",
       " decimallatitude & decimallongitude & n & samples\\\\\n",
       "\\hline\n",
       "\t -26.79118                                                                       & -60.44713                                                                       & 6                                                                               & TTU:31002<br/>TTU:31003<br/>TTU:31005<br/>TTU:31004<br/>TTU:31000<br/>TTU:31001\\\\\n",
       "\t  16.96416                                                                       & -96.82777                                                                       & 1                                                                               & CAS:10986                                                                      \\\\\n",
       "\t  17.21666                                                                       & -97.74527                                                                       & 1                                                                               & CAS:14235                                                                      \\\\\n",
       "\\end{tabular}\n"
      ],
      "text/markdown": [
       "\n",
       "decimallatitude | decimallongitude | n | samples | \n",
       "|---|---|---|\n",
       "| -26.79118                                                                       | -60.44713                                                                       | 6                                                                               | TTU:31002<br/>TTU:31003<br/>TTU:31005<br/>TTU:31004<br/>TTU:31000<br/>TTU:31001 | \n",
       "|  16.96416                                                                       | -96.82777                                                                       | 1                                                                               | CAS:10986                                                                       | \n",
       "|  17.21666                                                                       | -97.74527                                                                       | 1                                                                               | CAS:14235                                                                       | \n",
       "\n",
       "\n"
      ],
      "text/plain": [
       "  decimallatitude decimallongitude n\n",
       "1 -26.79118       -60.44713        6\n",
       "2  16.96416       -96.82777        1\n",
       "3  17.21666       -97.74527        1\n",
       "  samples                                                                        \n",
       "1 TTU:31002<br/>TTU:31003<br/>TTU:31005<br/>TTU:31004<br/>TTU:31000<br/>TTU:31001\n",
       "2 CAS:10986                                                                      \n",
       "3 CAS:14235                                                                      "
      ]
     },
     "metadata": {},
     "output_type": "display_data"
    }
   ],
   "source": [
    "all.plot = all_samples %>% \n",
    "    # Group by location, and whether the location is from the specimen record or geocoding\n",
    "    group_by(decimallatitude,decimallongitude) %>% \n",
    "    # Add a column for the number of samples, and all the samples at the location with html line breaks\n",
    "    summarise(n=n(),samples=glue_collapse(ids,sep=\"<br/>\"))\n",
    "head(all.plot,3)"
   ]
  },
  {
   "cell_type": "code",
   "execution_count": 52,
   "metadata": {},
   "outputs": [
    {
     "name": "stderr",
     "output_type": "stream",
     "text": [
      "Warning message in validateCoords(lng, lat, funcName):\n",
      "“Data contains 1 rows with either missing or invalid lat/lon values and will be ignored”"
     ]
    }
   ],
   "source": [
    "pal <- colorFactor(c(wes_palette(\"GrandBudapest1\")[2], wes_palette(\"GrandBudapest2\")[2]), domain = c(\"guess\", \"source\"))\n",
    "## Make the map ##\n",
    "p = leaflet(all.plot,width=\"100%\") %>%\n",
    "    addTiles(urlTemplate = \"https://mts1.google.com/vt/lyrs=s&hl=en&src=app&x={x}&y={y}&z={z}&s=G\", attribution = 'Google') %>%\n",
    "    #addCircleMarkers(lng=~decimallongitude,lat=~decimallatitude,color=~pal(coord_origin),fillOpacity=0.7,opacity=0,radius=~log(n+5),popup = ~samples,popupOptions = popupOptions(autoPan=FALSE)) %>%\n",
    "    addCircleMarkers(lng=~decimallongitude,lat=~decimallatitude,fillOpacity=0.7,opacity=0,radius=~log(n+5),popup = ~samples,popupOptions = popupOptions(autoPan=FALSE,style=list(\"border-color\" = \"rgba(0,0,0,0.5)\",\"fontsize\"=\"90px\"))) %>%\n",
    "    addLegend(\"bottomright\", colors=c(wes_palette(\"GrandBudapest2\")[2]), labels=c(\"From data\"),title = \"Coordinate source\",opacity = 1) %>%\n",
    "    addProviderTiles(\"CartoDB.PositronOnlyLabels\") \n",
    "\n",
    "q=browsable(\n",
    "tagList(\n",
    "    tags$head(\n",
    "      tags$style(\n",
    "        \".leaflet-popup-content-wrapper {\n",
    "        background: rgba(105,105,105,0.6);\n",
    "        color: #ffffff;\n",
    "        padding: 2px;\n",
    "        border-radius: 8px;\n",
    "        border: 2px solid rgba(0,0,0,0.8)\n",
    "        }\n",
    "        \",\n",
    "        \".leaflet-popup-tip {\n",
    "        background: transparent;\n",
    "        border: none;\n",
    "        box-shadow: none;\n",
    "        }\n",
    "        \"\n",
    "      )\n",
    "      ),\n",
    "    p\n",
    "      ))\n"
   ]
  },
  {
   "cell_type": "code",
   "execution_count": 53,
   "metadata": {
    "collapsed": true
   },
   "outputs": [],
   "source": [
    "htmlwidgets::saveWidget(p, \"m.html\")"
   ]
  },
  {
   "cell_type": "code",
   "execution_count": 40,
   "metadata": {},
   "outputs": [
    {
     "data": {
      "text/plain": [
       "NULL"
      ]
     },
     "metadata": {},
     "output_type": "display_data"
    }
   ],
   "source": [
    "q[[2]]$height"
   ]
  },
  {
   "cell_type": "code",
   "execution_count": 11,
   "metadata": {},
   "outputs": [
    {
     "name": "stderr",
     "output_type": "stream",
     "text": [
      "Warning message in validateCoords(lng, lat, funcName):\n",
      "“Data contains 1 rows with either missing or invalid lat/lon values and will be ignored”"
     ]
    },
    {
     "ename": "ERROR",
     "evalue": "Error in pal(coord_origin): object 'coord_origin' not found\n",
     "output_type": "error",
     "traceback": [
      "Error in pal(coord_origin): object 'coord_origin' not found\nTraceback:\n",
      "1. leaflet(all.plot, width = \"100%\") %>% addTiles(urlTemplate = \"https://mts1.google.com/vt/lyrs=s&hl=en&src=app&x={x}&y={y}&z={z}&s=G\", \n .     attribution = \"Google\") %>% addCircleMarkers(lng = ~decimallongitude, \n .     lat = ~decimallatitude, color = ~pal(coord_origin), fillOpacity = 0.7, \n .     opacity = 0, radius = ~log(n + 5), popup = ~samples, popupOptions = popupOptions(autoPan = FALSE)) %>% \n .     addLegend(\"bottomright\", colors = c(wes_palette(\"GrandBudapest2\")[2], \n .         wes_palette(\"GrandBudapest1\")[2]), labels = c(\"From data\", \n .         \"Geocoded (guess)\"), title = \"Coordinate source\", opacity = 1) %>% \n .     addProviderTiles(\"CartoDB.PositronOnlyLabels\")",
      "2. withVisible(eval(quote(`_fseq`(`_lhs`)), env, env))",
      "3. eval(quote(`_fseq`(`_lhs`)), env, env)",
      "4. eval(quote(`_fseq`(`_lhs`)), env, env)",
      "5. `_fseq`(`_lhs`)",
      "6. freduce(value, `_function_list`)",
      "7. function_list[[i]](value)",
      "8. addCircleMarkers(., lng = ~decimallongitude, lat = ~decimallatitude, \n .     color = ~pal(coord_origin), fillOpacity = 0.7, opacity = 0, \n .     radius = ~log(n + 5), popup = ~samples, popupOptions = popupOptions(autoPan = FALSE))",
      "9. invokeMethod(map, data, \"addCircleMarkers\", pts$lat, pts$lng, \n .     radius, layerId, group, options, clusterOptions, clusterId, \n .     popup, popupOptions, safeLabel(label, data), labelOptions, \n .     getCrosstalkOptions(data)) %>% expandLimits(pts$lat, pts$lng)",
      "10. eval(lhs, parent, parent)",
      "11. eval(lhs, parent, parent)",
      "12. invokeMethod(map, data, \"addCircleMarkers\", pts$lat, pts$lng, \n  .     radius, layerId, group, options, clusterOptions, clusterId, \n  .     popup, popupOptions, safeLabel(label, data), labelOptions, \n  .     getCrosstalkOptions(data))",
      "13. evalFormula(list(...), data)",
      "14. evalAll(list)",
      "15. lapply(x, evalAll)",
      "16. FUN(X[[i]], ...)",
      "17. lapply(x, evalAll)",
      "18. FUN(X[[i]], ...)",
      "19. resolveFormula(x, data)",
      "20. eval(f[[2]], metaData(data), environment(f))",
      "21. eval(f[[2]], metaData(data), environment(f))",
      "22. pal(coord_origin)"
     ]
    }
   ],
   "source": [
    "## Make the map ##\n",
    "q = leaflet(all.plot,width=\"100%\") %>%\n",
    "    addTiles(urlTemplate = \"https://mts1.google.com/vt/lyrs=s&hl=en&src=app&x={x}&y={y}&z={z}&s=G\", attribution = 'Google') %>%\n",
    "    addCircleMarkers(lng=~decimallongitude,lat=~decimallatitude,color=~pal(coord_origin),fillOpacity=0.7,opacity=0,radius=~log(n+5),popup = ~samples,popupOptions = popupOptions(autoPan=FALSE)) %>%\n",
    "    addLegend(\"bottomright\", colors=c(wes_palette(\"GrandBudapest2\")[2],wes_palette(\"GrandBudapest1\")[2]), labels=c(\"From data\",\"Geocoded (guess)\"),title = \"Coordinate source\",opacity = 1) %>%\n",
    "    addProviderTiles(\"CartoDB.PositronOnlyLabels\") \n",
    "\n",
    "r = browsable(\n",
    "tagList(\n",
    "    tags$head(tags$style(\n",
    "        \".leaflet-popup-content-wrapper {\n",
    "        background: rgba(105,105,105,0.6);\n",
    "        color: #ffffff;\n",
    "        padding: 2px;\n",
    "        border-radius: 8px;\n",
    "        border: 2px solid rgba(0,0,0,0.8)\n",
    "        }\n",
    "        \",\n",
    "        \".leaflet-popup-tip {\n",
    "        background: transparent;\n",
    "        border: none;\n",
    "        box-shadow: none;\n",
    "        }\n",
    "        \")),\n",
    "    q\n",
    "      ))\n"
   ]
  },
  {
   "cell_type": "code",
   "execution_count": null,
   "metadata": {
    "collapsed": true
   },
   "outputs": [],
   "source": []
  },
  {
   "cell_type": "markdown",
   "metadata": {},
   "source": []
  },
  {
   "cell_type": "code",
   "execution_count": 74,
   "metadata": {},
   "outputs": [
    {
     "data": {
      "text/html": [
       "<ol class=list-inline>\n",
       "\t<li>'shiny.tag.list'</li>\n",
       "\t<li>'list'</li>\n",
       "</ol>\n"
      ],
      "text/latex": [
       "\\begin{enumerate*}\n",
       "\\item 'shiny.tag.list'\n",
       "\\item 'list'\n",
       "\\end{enumerate*}\n"
      ],
      "text/markdown": [
       "1. 'shiny.tag.list'\n",
       "2. 'list'\n",
       "\n",
       "\n"
      ],
      "text/plain": [
       "[1] \"shiny.tag.list\" \"list\"          "
      ]
     },
     "metadata": {},
     "output_type": "display_data"
    }
   ],
   "source": [
    "library(rgl)\n",
    "library(rglwidget)\n",
    "library(htmltools)\n",
    "\n",
    "theta <- seq(0, 6*pi, len=100)\n",
    "xyz <- cbind(sin(theta), cos(theta), theta)\n",
    "lineid <- plot3d(xyz, type=\"l\", alpha = 1:0, \n",
    "                 lwd = 5, col = \"blue\")[\"data\"]\n",
    "\n",
    "q = browsable(tagList(\n",
    "  rglwidget(elementId = \"example\", width = 500, height = 400,\n",
    "            controllers = \"player\"),\n",
    "  playwidget(\"example\", \n",
    "             ageControl(births = theta, ages = c(0, 0, 1),\n",
    "                        objids = lineid, alpha = c(0, 1, 0)),\n",
    "             start = 1, stop = 6*pi, step = 0.1, \n",
    "             rate = 6,elementId = \"player\")\n",
    "))\n",
    "\n",
    "class(q)"
   ]
  },
  {
   "cell_type": "code",
   "execution_count": 75,
   "metadata": {},
   "outputs": [
    {
     "data": {
      "text/html": [
       "<ol class=list-inline>\n",
       "\t<li>'rglWebGL'</li>\n",
       "\t<li>'htmlwidget'</li>\n",
       "</ol>\n"
      ],
      "text/latex": [
       "\\begin{enumerate*}\n",
       "\\item 'rglWebGL'\n",
       "\\item 'htmlwidget'\n",
       "\\end{enumerate*}\n"
      ],
      "text/markdown": [
       "1. 'rglWebGL'\n",
       "2. 'htmlwidget'\n",
       "\n",
       "\n"
      ],
      "text/plain": [
       "[1] \"rglWebGL\"   \"htmlwidget\""
      ]
     },
     "metadata": {},
     "output_type": "display_data"
    },
    {
     "data": {
      "text/html": [
       "<ol class=list-inline>\n",
       "\t<li>'rglPlayer'</li>\n",
       "\t<li>'htmlwidget'</li>\n",
       "</ol>\n"
      ],
      "text/latex": [
       "\\begin{enumerate*}\n",
       "\\item 'rglPlayer'\n",
       "\\item 'htmlwidget'\n",
       "\\end{enumerate*}\n"
      ],
      "text/markdown": [
       "1. 'rglPlayer'\n",
       "2. 'htmlwidget'\n",
       "\n",
       "\n"
      ],
      "text/plain": [
       "[1] \"rglPlayer\"  \"htmlwidget\""
      ]
     },
     "metadata": {},
     "output_type": "display_data"
    }
   ],
   "source": [
    "class(q[[1]])\n",
    "class(q[[2]])"
   ]
  }
 ],
 "metadata": {
  "kernelspec": {
   "display_name": "R 3.5",
   "language": "R",
   "name": "ir35"
  },
  "language_info": {
   "codemirror_mode": "r",
   "file_extension": ".r",
   "mimetype": "text/x-r-source",
   "name": "R",
   "pygments_lexer": "r",
   "version": "3.5.1"
  },
  "toc": {
   "base_numbering": 1,
   "nav_menu": {},
   "number_sections": true,
   "sideBar": true,
   "skip_h1_title": false,
   "title_cell": "Table of Contents",
   "title_sidebar": "Contents",
   "toc_cell": false,
   "toc_position": {},
   "toc_section_display": true,
   "toc_window_display": true
  }
 },
 "nbformat": 4,
 "nbformat_minor": 2
}
