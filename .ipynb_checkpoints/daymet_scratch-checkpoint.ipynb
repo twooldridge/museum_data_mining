{
 "cells": [
  {
   "cell_type": "code",
   "execution_count": 69,
   "metadata": {},
   "outputs": [
    {
     "name": "stderr",
     "output_type": "stream",
     "text": [
      "\n",
      "Attaching package: ‘foreach’\n",
      "\n",
      "The following objects are masked from ‘package:purrr’:\n",
      "\n",
      "    accumulate, when\n",
      "\n",
      "Loading required package: iterators\n",
      "Loading required package: parallel\n"
     ]
    }
   ],
   "source": [
    "library(tidyverse)\n",
    "library(data.table)\n",
    "library(foreach)\n",
    "library(doParallel)"
   ]
  },
  {
   "cell_type": "code",
   "execution_count": 6,
   "metadata": {
    "collapsed": true
   },
   "outputs": [],
   "source": [
    "ex = \"~/museum_data/11191_lat_35.40019_lon_-119.46583_2018-05-30_165249.csv\"\n",
    "a=read.csv(ex,skip=7)"
   ]
  },
  {
   "cell_type": "code",
   "execution_count": 8,
   "metadata": {},
   "outputs": [
    {
     "data": {
      "text/html": [
       "<table>\n",
       "<thead><tr><th scope=col>year</th><th scope=col>yday</th><th scope=col>dayl..s.</th><th scope=col>prcp..mm.day.</th><th scope=col>srad..W.m.2.</th><th scope=col>swe..kg.m.2.</th><th scope=col>tmax..deg.c.</th><th scope=col>tmin..deg.c.</th><th scope=col>vp..Pa.</th></tr></thead>\n",
       "<tbody>\n",
       "\t<tr><td>1980   </td><td>1      </td><td>34905.6</td><td>0      </td><td>272.0  </td><td>0      </td><td>20.0   </td><td>8.5    </td><td>400    </td></tr>\n",
       "\t<tr><td>1980   </td><td>2      </td><td>34905.6</td><td>0      </td><td>169.6  </td><td>0      </td><td>14.5   </td><td>8.5    </td><td>720    </td></tr>\n",
       "\t<tr><td>1980   </td><td>3      </td><td>34905.6</td><td>0      </td><td>268.8  </td><td>0      </td><td>15.0   </td><td>4.0    </td><td>320    </td></tr>\n",
       "\t<tr><td>1980   </td><td>4      </td><td>34905.6</td><td>0      </td><td>300.8  </td><td>0      </td><td>15.5   </td><td>1.5    </td><td>240    </td></tr>\n",
       "\t<tr><td>1980   </td><td>5      </td><td>34905.6</td><td>0      </td><td>259.2  </td><td>0      </td><td>13.0   </td><td>3.0    </td><td>320    </td></tr>\n",
       "\t<tr><td>1980   </td><td>6      </td><td>34905.6</td><td>0      </td><td>243.2  </td><td>0      </td><td>14.0   </td><td>5.0    </td><td>400    </td></tr>\n",
       "</tbody>\n",
       "</table>\n"
      ],
      "text/latex": [
       "\\begin{tabular}{r|lllllllll}\n",
       " year & yday & dayl..s. & prcp..mm.day. & srad..W.m.2. & swe..kg.m.2. & tmax..deg.c. & tmin..deg.c. & vp..Pa.\\\\\n",
       "\\hline\n",
       "\t 1980    & 1       & 34905.6 & 0       & 272.0   & 0       & 20.0    & 8.5     & 400    \\\\\n",
       "\t 1980    & 2       & 34905.6 & 0       & 169.6   & 0       & 14.5    & 8.5     & 720    \\\\\n",
       "\t 1980    & 3       & 34905.6 & 0       & 268.8   & 0       & 15.0    & 4.0     & 320    \\\\\n",
       "\t 1980    & 4       & 34905.6 & 0       & 300.8   & 0       & 15.5    & 1.5     & 240    \\\\\n",
       "\t 1980    & 5       & 34905.6 & 0       & 259.2   & 0       & 13.0    & 3.0     & 320    \\\\\n",
       "\t 1980    & 6       & 34905.6 & 0       & 243.2   & 0       & 14.0    & 5.0     & 400    \\\\\n",
       "\\end{tabular}\n"
      ],
      "text/markdown": [
       "\n",
       "year | yday | dayl..s. | prcp..mm.day. | srad..W.m.2. | swe..kg.m.2. | tmax..deg.c. | tmin..deg.c. | vp..Pa. | \n",
       "|---|---|---|---|---|---|\n",
       "| 1980    | 1       | 34905.6 | 0       | 272.0   | 0       | 20.0    | 8.5     | 400     | \n",
       "| 1980    | 2       | 34905.6 | 0       | 169.6   | 0       | 14.5    | 8.5     | 720     | \n",
       "| 1980    | 3       | 34905.6 | 0       | 268.8   | 0       | 15.0    | 4.0     | 320     | \n",
       "| 1980    | 4       | 34905.6 | 0       | 300.8   | 0       | 15.5    | 1.5     | 240     | \n",
       "| 1980    | 5       | 34905.6 | 0       | 259.2   | 0       | 13.0    | 3.0     | 320     | \n",
       "| 1980    | 6       | 34905.6 | 0       | 243.2   | 0       | 14.0    | 5.0     | 400     | \n",
       "\n",
       "\n"
      ],
      "text/plain": [
       "  year yday dayl..s. prcp..mm.day. srad..W.m.2. swe..kg.m.2. tmax..deg.c.\n",
       "1 1980 1    34905.6  0             272.0        0            20.0        \n",
       "2 1980 2    34905.6  0             169.6        0            14.5        \n",
       "3 1980 3    34905.6  0             268.8        0            15.0        \n",
       "4 1980 4    34905.6  0             300.8        0            15.5        \n",
       "5 1980 5    34905.6  0             259.2        0            13.0        \n",
       "6 1980 6    34905.6  0             243.2        0            14.0        \n",
       "  tmin..deg.c. vp..Pa.\n",
       "1 8.5          400    \n",
       "2 8.5          720    \n",
       "3 4.0          320    \n",
       "4 1.5          240    \n",
       "5 3.0          320    \n",
       "6 5.0          400    "
      ]
     },
     "metadata": {},
     "output_type": "display_data"
    }
   ],
   "source": [
    "head(a)"
   ]
  },
  {
   "cell_type": "code",
   "execution_count": 40,
   "metadata": {},
   "outputs": [
    {
     "data": {
      "text/html": [
       "<table>\n",
       "<thead><tr><th scope=col>mean</th><th scope=col>mean_july</th><th scope=col>mean_january</th></tr></thead>\n",
       "<tbody>\n",
       "\t<tr><td>18.28362</td><td>27.79708</td><td>9.240846</td></tr>\n",
       "</tbody>\n",
       "</table>\n"
      ],
      "text/latex": [
       "\\begin{tabular}{r|lll}\n",
       " mean & mean\\_july & mean\\_january\\\\\n",
       "\\hline\n",
       "\t 18.28362 & 27.79708 & 9.240846\\\\\n",
       "\\end{tabular}\n"
      ],
      "text/markdown": [
       "\n",
       "mean | mean_july | mean_january | \n",
       "|---|\n",
       "| 18.28362 | 27.79708 | 9.240846 | \n",
       "\n",
       "\n"
      ],
      "text/plain": [
       "  mean     mean_july mean_january\n",
       "1 18.28362 27.79708  9.240846    "
      ]
     },
     "metadata": {},
     "output_type": "display_data"
    }
   ],
   "source": [
    "y = a %>% filter(yday %in% july) %>% summarize(mean_sum=mean(c(tmax..deg.c.,tmin..deg.c.)))\n",
    "z = a %>% filter(yday %in% january) %>% summarize(mean_win=mean(c(tmax..deg.c.,tmin..deg.c.)))\n",
    "x = mean(c(a$tmax..deg.c.,a$tmin..deg.c.))\n",
    "data.frame(x,y,z) %>% magrittr::set_colnames(c(\"mean\",\"mean_july\",\"mean_january\"))"
   ]
  },
  {
   "cell_type": "code",
   "execution_count": 63,
   "metadata": {},
   "outputs": [
    {
     "data": {
      "text/html": [
       "<table>\n",
       "<thead><tr><th scope=col>X1</th><th scope=col>X2</th><th scope=col>X3</th><th scope=col>X4</th><th scope=col>X5</th><th scope=col>X6</th><th scope=col>X7</th></tr></thead>\n",
       "<tbody>\n",
       "\t<tr><td>35.40019 </td><td>-119.4658</td><td>84       </td><td>11191    </td><td>18.28362 </td><td>27.79708 </td><td>9.240846 </td></tr>\n",
       "</tbody>\n",
       "</table>\n"
      ],
      "text/latex": [
       "\\begin{tabular}{r|lllllll}\n",
       " X1 & X2 & X3 & X4 & X5 & X6 & X7\\\\\n",
       "\\hline\n",
       "\t 35.40019  & -119.4658 & 84        & 11191     & 18.28362  & 27.79708  & 9.240846 \\\\\n",
       "\\end{tabular}\n"
      ],
      "text/markdown": [
       "\n",
       "X1 | X2 | X3 | X4 | X5 | X6 | X7 | \n",
       "|---|\n",
       "| 35.40019  | -119.4658 | 84        | 11191     | 18.28362  | 27.79708  | 9.240846  | \n",
       "\n",
       "\n"
      ],
      "text/plain": [
       "  X1       X2        X3 X4    X5       X6       X7      \n",
       "1 35.40019 -119.4658 84 11191 18.28362 27.79708 9.240846"
      ]
     },
     "metadata": {},
     "output_type": "display_data"
    }
   ],
   "source": [
    "numextract <- function(string){ \n",
    "  str_extract(string, \"\\\\-*\\\\d+\\\\.*\\\\d*\")\n",
    "} \n",
    "\n",
    "get_following_num = function(string,pattern){\n",
    "    expr = paste0(\"(\",pattern,\").+([0-9])\")\n",
    "    val = numextract(str_extract(string=string, pattern=regex(expr,ignore_case = TRUE)))[1]\n",
    "    return(as.numeric(val))\n",
    "}\n",
    "\n",
    "get_metadata = function(csv_path){\n",
    "    x = readLines(csv_path,n=7) \n",
    "    lat = get_following_num(x[1],\"Latitude\")\n",
    "    lon = get_following_num(x[1],\"Longitude\")\n",
    "    elevation = get_following_num(x[4],\"Elevation\")\n",
    "    tile = get_following_num(x[3],\"Tile\")\n",
    "    vals = c(lat,lon,elevation,tile)\n",
    "    names(vals) = c(\"lat\",\"lon\",\"elevation\",\"tile\")\n",
    "    return(vals)\n",
    "}\n",
    "\n",
    "get_tempdata = function(csv_path){\n",
    "    july = seq(181,211)\n",
    "    january = seq(1,31)\n",
    "    dat = read.csv(csv_path,skip=7)\n",
    "    mean_july = dat %>% filter(yday %in% july) %>% summarize(mean_sum=mean(c(tmax..deg.c.,tmin..deg.c.))) %>% .[1,1]\n",
    "    mean_january = dat %>% filter(yday %in% january) %>% summarize(mean_win=mean(c(tmax..deg.c.,tmin..deg.c.))) %>% .[1,1]\n",
    "    mean = mean(c(dat$tmax..deg.c.,dat$tmin..deg.c.))\n",
    "    vals = c(mean,mean_july,mean_january)\n",
    "    names(vals) = c(\"mean\",\"mean_july\",\"mean_january\")\n",
    "    return(vals)\n",
    "}\n",
    "\n",
    "get_alldata = function(csv_path){\n",
    "    a = get_metadata(csv_path)\n",
    "    b = get_tempdata(csv_path)\n",
    "    df = data.frame(matrix(c(a,b),nrow=1,ncol=7))\n",
    "    return(df)\n",
    "}\n",
    "\n",
    "get_alldata(ex)\n"
   ]
  },
  {
   "cell_type": "code",
   "execution_count": 73,
   "metadata": {},
   "outputs": [
    {
     "data": {
      "text/html": [
       "21887"
      ],
      "text/latex": [
       "21887"
      ],
      "text/markdown": [
       "21887"
      ],
      "text/plain": [
       "[1] 21887"
      ]
     },
     "metadata": {},
     "output_type": "display_data"
    },
    {
     "data": {
      "text/plain": [
       "   user  system elapsed \n",
       " 81.847   0.413  91.610 "
      ]
     },
     "metadata": {},
     "output_type": "display_data"
    },
    {
     "data": {
      "text/plain": [
       "   user  system elapsed \n",
       "  0.396   0.037  79.754 "
      ]
     },
     "metadata": {},
     "output_type": "display_data"
    }
   ],
   "source": [
    "files = list.files(\"/n/holylfs/LABS/hoekstra_lab/brock/daymet/rawdata/\",full.names=TRUE)\n",
    "length(files)\n",
    "files = files[1:5000]\n",
    "ptm = proc.time()\n",
    "r=lapply(files,function(path){get_alldata(path)})\n",
    "proc.time() - ptm\n",
    "\n",
    "cl <- parallel::makeCluster(4)\n",
    "doParallel::registerDoParallel(cl)\n",
    "ptm <- proc.time()\n",
    "lst = foreach(i=1:length(files),.packages=c(\"tidyverse\",\"magrittr\")) %dopar% {\n",
    "    get_alldata(files[i])\n",
    "}\n",
    "proc.time() - ptm"
   ]
  },
  {
   "cell_type": "code",
   "execution_count": 75,
   "metadata": {},
   "outputs": [
    {
     "data": {
      "text/html": [
       "<table>\n",
       "<thead><tr><th scope=col>X1</th><th scope=col>X2</th><th scope=col>X3</th><th scope=col>X4</th><th scope=col>X5</th><th scope=col>X6</th><th scope=col>X7</th></tr></thead>\n",
       "<tbody>\n",
       "\t<tr><td>35.40019 </td><td>-119.4658</td><td>84       </td><td>11191    </td><td>18.28362 </td><td>27.79708 </td><td>9.240846 </td></tr>\n",
       "\t<tr><td>35.40019 </td><td>-119.4658</td><td>84       </td><td>11191    </td><td>18.28362 </td><td>27.79708 </td><td>9.240846 </td></tr>\n",
       "\t<tr><td>35.40019 </td><td>-119.4658</td><td>84       </td><td>11191    </td><td>18.28362 </td><td>27.79708 </td><td>9.240846 </td></tr>\n",
       "\t<tr><td>35.40019 </td><td>-119.4658</td><td>84       </td><td>11191    </td><td>18.28362 </td><td>27.79708 </td><td>9.240846 </td></tr>\n",
       "\t<tr><td>35.40019 </td><td>-119.4658</td><td>84       </td><td>11191    </td><td>18.28362 </td><td>27.79708 </td><td>9.240846 </td></tr>\n",
       "\t<tr><td>35.40019 </td><td>-119.4658</td><td>84       </td><td>11191    </td><td>18.28362 </td><td>27.79708 </td><td>9.240846 </td></tr>\n",
       "</tbody>\n",
       "</table>\n"
      ],
      "text/latex": [
       "\\begin{tabular}{r|lllllll}\n",
       " X1 & X2 & X3 & X4 & X5 & X6 & X7\\\\\n",
       "\\hline\n",
       "\t 35.40019  & -119.4658 & 84        & 11191     & 18.28362  & 27.79708  & 9.240846 \\\\\n",
       "\t 35.40019  & -119.4658 & 84        & 11191     & 18.28362  & 27.79708  & 9.240846 \\\\\n",
       "\t 35.40019  & -119.4658 & 84        & 11191     & 18.28362  & 27.79708  & 9.240846 \\\\\n",
       "\t 35.40019  & -119.4658 & 84        & 11191     & 18.28362  & 27.79708  & 9.240846 \\\\\n",
       "\t 35.40019  & -119.4658 & 84        & 11191     & 18.28362  & 27.79708  & 9.240846 \\\\\n",
       "\t 35.40019  & -119.4658 & 84        & 11191     & 18.28362  & 27.79708  & 9.240846 \\\\\n",
       "\\end{tabular}\n"
      ],
      "text/markdown": [
       "\n",
       "X1 | X2 | X3 | X4 | X5 | X6 | X7 | \n",
       "|---|---|---|---|---|---|\n",
       "| 35.40019  | -119.4658 | 84        | 11191     | 18.28362  | 27.79708  | 9.240846  | \n",
       "| 35.40019  | -119.4658 | 84        | 11191     | 18.28362  | 27.79708  | 9.240846  | \n",
       "| 35.40019  | -119.4658 | 84        | 11191     | 18.28362  | 27.79708  | 9.240846  | \n",
       "| 35.40019  | -119.4658 | 84        | 11191     | 18.28362  | 27.79708  | 9.240846  | \n",
       "| 35.40019  | -119.4658 | 84        | 11191     | 18.28362  | 27.79708  | 9.240846  | \n",
       "| 35.40019  | -119.4658 | 84        | 11191     | 18.28362  | 27.79708  | 9.240846  | \n",
       "\n",
       "\n"
      ],
      "text/plain": [
       "  X1       X2        X3 X4    X5       X6       X7      \n",
       "1 35.40019 -119.4658 84 11191 18.28362 27.79708 9.240846\n",
       "2 35.40019 -119.4658 84 11191 18.28362 27.79708 9.240846\n",
       "3 35.40019 -119.4658 84 11191 18.28362 27.79708 9.240846\n",
       "4 35.40019 -119.4658 84 11191 18.28362 27.79708 9.240846\n",
       "5 35.40019 -119.4658 84 11191 18.28362 27.79708 9.240846\n",
       "6 35.40019 -119.4658 84 11191 18.28362 27.79708 9.240846"
      ]
     },
     "metadata": {},
     "output_type": "display_data"
    }
   ],
   "source": [
    "a = rbindlist(lst)\n",
    "head(a)"
   ]
  }
 ],
 "metadata": {
  "kernelspec": {
   "display_name": "R 3.5",
   "language": "R",
   "name": "ir35"
  },
  "language_info": {
   "codemirror_mode": "r",
   "file_extension": ".r",
   "mimetype": "text/x-r-source",
   "name": "R",
   "pygments_lexer": "r",
   "version": "3.4.2"
  },
  "toc": {
   "base_numbering": 1,
   "nav_menu": {},
   "number_sections": true,
   "sideBar": true,
   "skip_h1_title": false,
   "title_cell": "Table of Contents",
   "title_sidebar": "Contents",
   "toc_cell": false,
   "toc_position": {},
   "toc_section_display": true,
   "toc_window_display": false
  }
 },
 "nbformat": 4,
 "nbformat_minor": 2
}
