{
 "cells": [
  {
   "cell_type": "code",
   "execution_count": 6,
   "metadata": {
    "collapsed": true
   },
   "outputs": [],
   "source": [
    "import sys,os,re,glob,shutil,pickle,subprocess\n",
    "import pandas as pd\n",
    "import numpy as np\n",
    "import time\n",
    "%run '~/jupyter/py3_functions.py'\n",
    "os.chdir('/n/home11/twooldridge/museum_data/')\n"
   ]
  },
  {
   "cell_type": "markdown",
   "metadata": {},
   "source": [
    "Split specimen data into a bunch of parts"
   ]
  },
  {
   "cell_type": "code",
   "execution_count": 5,
   "metadata": {},
   "outputs": [],
   "source": [
    "!mkdir -p smallfiles\n",
    "infile = 'fulldata_processed_20181221_coordinatesonly.txt'\n",
    "line_num=1000\n",
    "cmd='split -l %s %s smallfiles/specimens_input_' % (line_num,infile)\n",
    "!$cmd"
   ]
  },
  {
   "cell_type": "code",
   "execution_count": 17,
   "metadata": {},
   "outputs": [],
   "source": [
    "!mkdir -p cmds\n",
    "!mkdir -p logs\n",
    "files = glob.glob('smallfiles/*input*')\n",
    "for file in files:\n",
    "    output = re.sub('input','w_raster',file)\n",
    "    cmd = 'Rscript --vanilla fuzzy_raster_join.R %s %s' % (file,output)\n",
    "    slurm = make_slurm(run=True,id='%s.raster' % re.sub('smallfiles/','',file),p='serial_requeue',cmd_string=cmd,mem='500',time='00:02:00')"
   ]
  },
  {
   "cell_type": "code",
   "execution_count": null,
   "metadata": {
    "collapsed": true
   },
   "outputs": [],
   "source": []
  }
 ],
 "metadata": {
  "kernelspec": {
   "display_name": "Python 3",
   "language": "python",
   "name": "python3"
  },
  "language_info": {
   "codemirror_mode": {
    "name": "ipython",
    "version": 3
   },
   "file_extension": ".py",
   "mimetype": "text/x-python",
   "name": "python",
   "nbconvert_exporter": "python",
   "pygments_lexer": "ipython3",
   "version": "3.6.4"
  },
  "toc": {
   "base_numbering": 1,
   "nav_menu": {},
   "number_sections": true,
   "sideBar": true,
   "skip_h1_title": false,
   "title_cell": "Table of Contents",
   "title_sidebar": "Contents",
   "toc_cell": false,
   "toc_position": {},
   "toc_section_display": true,
   "toc_window_display": false
  }
 },
 "nbformat": 4,
 "nbformat_minor": 2
}
