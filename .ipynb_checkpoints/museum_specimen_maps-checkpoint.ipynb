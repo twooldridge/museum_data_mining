{
 "cells": [
  {
   "cell_type": "markdown",
   "metadata": {},
   "source": [
    "## Visualizing the distribution of _P. maniculatus_ museum specimens in North America\n",
    "\n",
    "This notebook pulls in prepared data from arctos, vertnet, and other resources (see X) & plots it on maps of North America using leaflet. These maps are interactive and easy to explore. "
   ]
  },
  {
   "cell_type": "code",
   "execution_count": 1,
   "metadata": {},
   "outputs": [
    {
     "name": "stderr",
     "output_type": "stream",
     "text": [
      "\n",
      "Attaching package: ‘dplyr’\n",
      "\n",
      "The following objects are masked from ‘package:stats’:\n",
      "\n",
      "    filter, lag\n",
      "\n",
      "The following objects are masked from ‘package:base’:\n",
      "\n",
      "    intersect, setdiff, setequal, union\n",
      "\n",
      "\n",
      "Attaching package: ‘glue’\n",
      "\n",
      "The following object is masked from ‘package:dplyr’:\n",
      "\n",
      "    collapse\n",
      "\n"
     ]
    }
   ],
   "source": [
    "library(dplyr)\n",
    "library(magrittr)\n",
    "library(leaflet)\n",
    "library(glue)\n",
    "library(htmltools)\n",
    "library(stringr)\n",
    "library(wesanderson)\n",
    "library(repr)\n",
    "library(knitr)"
   ]
  },
  {
   "cell_type": "markdown",
   "metadata": {},
   "source": [
    "Let's read in the data and see what it looks like (again, this is already curated from other scripts)"
   ]
  },
  {
   "cell_type": "code",
   "execution_count": 2,
   "metadata": {},
   "outputs": [
    {
     "data": {
      "text/html": [
       "<table>\n",
       "<thead><tr><th scope=col>X</th><th scope=col>ids</th><th scope=col>scientificname</th><th scope=col>sex</th><th scope=col>stateprovince</th><th scope=col>locality</th><th scope=col>decimallongitude</th><th scope=col>decimallatitude</th><th scope=col>tail_length</th><th scope=col>body_length</th><th scope=col>tail_body_ratio</th><th scope=col>preparations</th><th scope=col>lifestage</th><th scope=col>hastissue</th><th scope=col>source</th><th scope=col>coord_origin</th><th scope=col>long_lat</th><th scope=col>raster</th><th scope=col>hab_type</th></tr></thead>\n",
       "<tbody>\n",
       "\t<tr><td>1                                </td><td>CAS:MAM:24435                    </td><td>Peromyscus maniculatus gambelli  </td><td>female                           </td><td>California                       </td><td>Pacifica, 635 Loma Vista Terrace.</td><td>-122.4809                        </td><td>37.6350                          </td><td>NA                               </td><td>NA                               </td><td>NA                               </td><td>SSS                              </td><td>adult                            </td><td>0                                </td><td>vertnet                          </td><td>source                           </td><td>-122.48094,37.63502              </td><td>17                               </td><td>open                             </td></tr>\n",
       "\t<tr><td>2                                </td><td>CAS:MAM:2585                     </td><td>Peromyscus maniculatus gambelii  </td><td>male                             </td><td>California                       </td><td>Stewart's Springs, near Weed     </td><td>-122.5021                        </td><td>41.4202                          </td><td>NA                               </td><td>NA                               </td><td>NA                               </td><td>SS                               </td><td>                                 </td><td>0                                </td><td>vertnet                          </td><td>source                           </td><td>-122.50214,41.42023              </td><td> 1                               </td><td>forest                           </td></tr>\n",
       "\t<tr><td>3                                </td><td>CAS:MAM:2588                     </td><td>Peromyscus maniculatus gambelii  </td><td>male                             </td><td>California                       </td><td>Stewart's Springs, near Weed     </td><td>-122.5021                        </td><td>41.4202                          </td><td>NA                               </td><td>NA                               </td><td>NA                               </td><td>SS                               </td><td>Juvenile                         </td><td>0                                </td><td>vertnet                          </td><td>source                           </td><td>-122.50214,41.42023              </td><td> 1                               </td><td>forest                           </td></tr>\n",
       "</tbody>\n",
       "</table>\n"
      ],
      "text/latex": [
       "\\begin{tabular}{r|lllllllllllllllllll}\n",
       " X & ids & scientificname & sex & stateprovince & locality & decimallongitude & decimallatitude & tail\\_length & body\\_length & tail\\_body\\_ratio & preparations & lifestage & hastissue & source & coord\\_origin & long\\_lat & raster & hab\\_type\\\\\n",
       "\\hline\n",
       "\t 1                                 & CAS:MAM:24435                     & Peromyscus maniculatus gambelli   & female                            & California                        & Pacifica, 635 Loma Vista Terrace. & -122.4809                         & 37.6350                           & NA                                & NA                                & NA                                & SSS                               & adult                             & 0                                 & vertnet                           & source                            & -122.48094,37.63502               & 17                                & open                             \\\\\n",
       "\t 2                                 & CAS:MAM:2585                      & Peromyscus maniculatus gambelii   & male                              & California                        & Stewart's Springs, near Weed      & -122.5021                         & 41.4202                           & NA                                & NA                                & NA                                & SS                                &                                   & 0                                 & vertnet                           & source                            & -122.50214,41.42023               &  1                                & forest                           \\\\\n",
       "\t 3                                 & CAS:MAM:2588                      & Peromyscus maniculatus gambelii   & male                              & California                        & Stewart's Springs, near Weed      & -122.5021                         & 41.4202                           & NA                                & NA                                & NA                                & SS                                & Juvenile                          & 0                                 & vertnet                           & source                            & -122.50214,41.42023               &  1                                & forest                           \\\\\n",
       "\\end{tabular}\n"
      ],
      "text/markdown": [
       "\n",
       "X | ids | scientificname | sex | stateprovince | locality | decimallongitude | decimallatitude | tail_length | body_length | tail_body_ratio | preparations | lifestage | hastissue | source | coord_origin | long_lat | raster | hab_type | \n",
       "|---|---|---|\n",
       "| 1                                 | CAS:MAM:24435                     | Peromyscus maniculatus gambelli   | female                            | California                        | Pacifica, 635 Loma Vista Terrace. | -122.4809                         | 37.6350                           | NA                                | NA                                | NA                                | SSS                               | adult                             | 0                                 | vertnet                           | source                            | -122.48094,37.63502               | 17                                | open                              | \n",
       "| 2                                 | CAS:MAM:2585                      | Peromyscus maniculatus gambelii   | male                              | California                        | Stewart's Springs, near Weed      | -122.5021                         | 41.4202                           | NA                                | NA                                | NA                                | SS                                |                                   | 0                                 | vertnet                           | source                            | -122.50214,41.42023               |  1                                | forest                            | \n",
       "| 3                                 | CAS:MAM:2588                      | Peromyscus maniculatus gambelii   | male                              | California                        | Stewart's Springs, near Weed      | -122.5021                         | 41.4202                           | NA                                | NA                                | NA                                | SS                                | Juvenile                          | 0                                 | vertnet                           | source                            | -122.50214,41.42023               |  1                                | forest                            | \n",
       "\n",
       "\n"
      ],
      "text/plain": [
       "  X ids           scientificname                  sex    stateprovince\n",
       "1 1 CAS:MAM:24435 Peromyscus maniculatus gambelli female California   \n",
       "2 2 CAS:MAM:2585  Peromyscus maniculatus gambelii male   California   \n",
       "3 3 CAS:MAM:2588  Peromyscus maniculatus gambelii male   California   \n",
       "  locality                          decimallongitude decimallatitude\n",
       "1 Pacifica, 635 Loma Vista Terrace. -122.4809        37.6350        \n",
       "2 Stewart's Springs, near Weed      -122.5021        41.4202        \n",
       "3 Stewart's Springs, near Weed      -122.5021        41.4202        \n",
       "  tail_length body_length tail_body_ratio preparations lifestage hastissue\n",
       "1 NA          NA          NA              SSS          adult     0        \n",
       "2 NA          NA          NA              SS                     0        \n",
       "3 NA          NA          NA              SS           Juvenile  0        \n",
       "  source  coord_origin long_lat            raster hab_type\n",
       "1 vertnet source       -122.48094,37.63502 17     open    \n",
       "2 vertnet source       -122.50214,41.42023  1     forest  \n",
       "3 vertnet source       -122.50214,41.42023  1     forest  "
      ]
     },
     "metadata": {},
     "output_type": "display_data"
    }
   ],
   "source": [
    "## This file is a list of samples with geocoded locations (when necessary), as well as raster data\n",
    "all_samples <- read.csv(\"~/forest_prairie_project/samples_w_raster_guess.csv\")\n",
    "head(all_samples,3)"
   ]
  },
  {
   "cell_type": "markdown",
   "metadata": {},
   "source": [
    "Let's go ahead and plot the entire dataset, before we do any filtering or anything fancy. First we'll start with grouping by long/lat, and we can scall the point size to the number of individuals at a location"
   ]
  },
  {
   "cell_type": "code",
   "execution_count": 3,
   "metadata": {},
   "outputs": [
    {
     "data": {
      "text/html": [
       "<table>\n",
       "<thead><tr><th scope=col>decimallatitude</th><th scope=col>decimallongitude</th><th scope=col>coord_origin</th><th scope=col>n</th><th scope=col>samples</th></tr></thead>\n",
       "<tbody>\n",
       "\t<tr><td>18.7249                                                                                                                                                                                                                        </td><td>-103.7535                                                                                                                                                                                                                      </td><td>source                                                                                                                                                                                                                         </td><td>2                                                                                                                                                                                                                              </td><td><span style=white-space:pre-wrap>OMNH:Mammals:56786&lt;br/&gt;OMNH:Mammals:56787                                                                                                                                        </span></td></tr>\n",
       "\t<tr><td>18.8725                                                                                                                                                                                                              </td><td>-103.9303                                                                                                                                                                                                            </td><td>source                                                                                                                                                                                                               </td><td>7                                                                                                                                                                                                                    </td><td>UAZ:Mammals:UAZ 09020&lt;br/&gt;UAZ:Mammals:UAZ 09022&lt;br/&gt;UAZ:Mammals:UAZ 09023&lt;br/&gt;UAZ:Mammals:UAZ 09024&lt;br/&gt;UAZ:Mammals:UAZ 09026&lt;br/&gt;UAZ:Mammals:UAZ 09027&lt;br/&gt;UAZ:Mammals:UAZ 09025</td></tr>\n",
       "\t<tr><td>19.0896                                                                                                                                                                                                              </td><td> -98.7093                                                                                                                                                                                                            </td><td>source                                                                                                                                                                                                               </td><td>7                                                                                                                                                                                                                    </td><td>UAZ:Mammals:UAZ 12665&lt;br/&gt;UAZ:Mammals:UAZ 12667&lt;br/&gt;UAZ:Mammals:UAZ 12668&lt;br/&gt;UAZ:Mammals:UAZ 12682&lt;br/&gt;UAZ:Mammals:UAZ 12664&lt;br/&gt;UAZ:Mammals:UAZ 12666&lt;br/&gt;UAZ:Mammals:UAZ 12683</td></tr>\n",
       "</tbody>\n",
       "</table>\n"
      ],
      "text/latex": [
       "\\begin{tabular}{r|lllll}\n",
       " decimallatitude & decimallongitude & coord\\_origin & n & samples\\\\\n",
       "\\hline\n",
       "\t 18.7249                                                                                                                                                                           & -103.7535                                                                                                                                                                         & source                                                                                                                                                                            & 2                                                                                                                                                                                 & OMNH:Mammals:56786<br/>OMNH:Mammals:56787                                                                                                                                        \\\\\n",
       "\t 18.8725                                                                                                                                                                           & -103.9303                                                                                                                                                                         & source                                                                                                                                                                            & 7                                                                                                                                                                                 & UAZ:Mammals:UAZ 09020<br/>UAZ:Mammals:UAZ 09022<br/>UAZ:Mammals:UAZ 09023<br/>UAZ:Mammals:UAZ 09024<br/>UAZ:Mammals:UAZ 09026<br/>UAZ:Mammals:UAZ 09027<br/>UAZ:Mammals:UAZ 09025\\\\\n",
       "\t 19.0896                                                                                                                                                                           &  -98.7093                                                                                                                                                                         & source                                                                                                                                                                            & 7                                                                                                                                                                                 & UAZ:Mammals:UAZ 12665<br/>UAZ:Mammals:UAZ 12667<br/>UAZ:Mammals:UAZ 12668<br/>UAZ:Mammals:UAZ 12682<br/>UAZ:Mammals:UAZ 12664<br/>UAZ:Mammals:UAZ 12666<br/>UAZ:Mammals:UAZ 12683\\\\\n",
       "\\end{tabular}\n"
      ],
      "text/markdown": [
       "\n",
       "decimallatitude | decimallongitude | coord_origin | n | samples | \n",
       "|---|---|---|\n",
       "| 18.7249                                                                                                                                                                           | -103.7535                                                                                                                                                                         | source                                                                                                                                                                            | 2                                                                                                                                                                                 | OMNH:Mammals:56786<br/>OMNH:Mammals:56787                                                                                                                                         | \n",
       "| 18.8725                                                                                                                                                                           | -103.9303                                                                                                                                                                         | source                                                                                                                                                                            | 7                                                                                                                                                                                 | UAZ:Mammals:UAZ 09020<br/>UAZ:Mammals:UAZ 09022<br/>UAZ:Mammals:UAZ 09023<br/>UAZ:Mammals:UAZ 09024<br/>UAZ:Mammals:UAZ 09026<br/>UAZ:Mammals:UAZ 09027<br/>UAZ:Mammals:UAZ 09025 | \n",
       "| 19.0896                                                                                                                                                                           |  -98.7093                                                                                                                                                                         | source                                                                                                                                                                            | 7                                                                                                                                                                                 | UAZ:Mammals:UAZ 12665<br/>UAZ:Mammals:UAZ 12667<br/>UAZ:Mammals:UAZ 12668<br/>UAZ:Mammals:UAZ 12682<br/>UAZ:Mammals:UAZ 12664<br/>UAZ:Mammals:UAZ 12666<br/>UAZ:Mammals:UAZ 12683 | \n",
       "\n",
       "\n"
      ],
      "text/plain": [
       "  decimallatitude decimallongitude coord_origin n\n",
       "1 18.7249         -103.7535        source       2\n",
       "2 18.8725         -103.9303        source       7\n",
       "3 19.0896          -98.7093        source       7\n",
       "  samples                                                                                                                                                                          \n",
       "1 OMNH:Mammals:56786<br/>OMNH:Mammals:56787                                                                                                                                        \n",
       "2 UAZ:Mammals:UAZ 09020<br/>UAZ:Mammals:UAZ 09022<br/>UAZ:Mammals:UAZ 09023<br/>UAZ:Mammals:UAZ 09024<br/>UAZ:Mammals:UAZ 09026<br/>UAZ:Mammals:UAZ 09027<br/>UAZ:Mammals:UAZ 09025\n",
       "3 UAZ:Mammals:UAZ 12665<br/>UAZ:Mammals:UAZ 12667<br/>UAZ:Mammals:UAZ 12668<br/>UAZ:Mammals:UAZ 12682<br/>UAZ:Mammals:UAZ 12664<br/>UAZ:Mammals:UAZ 12666<br/>UAZ:Mammals:UAZ 12683"
      ]
     },
     "metadata": {},
     "output_type": "display_data"
    }
   ],
   "source": [
    "all.plot = all_samples %>% \n",
    "    # Group by location, and whether the location is from the specimen record or geocoding\n",
    "    group_by(decimallatitude,decimallongitude,coord_origin) %>% \n",
    "    # Add a column for the number of samples, and all the samples at the location with html line breaks\n",
    "    summarise(n=n(),samples=glue::collapse(ids,sep=\"<br/>\"))\n",
    "head(all.plot,3)"
   ]
  },
  {
   "cell_type": "code",
   "execution_count": 56,
   "metadata": {},
   "outputs": [
    {
     "name": "stderr",
     "output_type": "stream",
     "text": [
      "Warning message in validateCoords(lng, lat, funcName):\n",
      "“Data contains 2 rows with either missing or invalid lat/lon values and will be ignored”"
     ]
    }
   ],
   "source": [
    "pal <- colorFactor(c(wes_palette(\"GrandBudapest1\")[2], wes_palette(\"GrandBudapest2\")[2]), domain = c(\"guess\", \"source\"))\n",
    "## Make the map ##\n",
    "p = leaflet(all.plot,width=\"100%\") %>%\n",
    "    addTiles(urlTemplate = \"https://mts1.google.com/vt/lyrs=s&hl=en&src=app&x={x}&y={y}&z={z}&s=G\", attribution = 'Google') %>%\n",
    "    addCircleMarkers(lng=~decimallongitude,lat=~decimallatitude,color=~pal(coord_origin),fillOpacity=0.7,opacity=0,radius=~log(n+5),popup = ~samples,popupOptions = popupOptions(autoPan=FALSE)) %>%\n",
    "    addLegend(\"bottomright\", colors=c(wes_palette(\"GrandBudapest2\")[2],wes_palette(\"GrandBudapest1\")[2]), labels=c(\"From data\",\"Geocoded (guess)\"),title = \"Coordinate source\",opacity = 1) %>%\n",
    "    addProviderTiles(\"CartoDB.PositronOnlyLabels\") \n",
    "\n",
    "q=browsable(\n",
    "tagList(\n",
    "    tags$head(\n",
    "      tags$style(\n",
    "        \".leaflet-popup-content-wrapper {\n",
    "        background: rgba(105,105,105,0.6);\n",
    "        color: #ffffff;\n",
    "        padding: 2px;\n",
    "        border-radius: 8px;\n",
    "        border: 2px solid rgba(0,0,0,0.8)\n",
    "        }\n",
    "        \",\n",
    "        \".leaflet-popup-tip {\n",
    "        background: transparent;\n",
    "        border: none;\n",
    "        box-shadow: none;\n",
    "        }\n",
    "        \"\n",
    "      )\n",
    "      ),\n",
    "    p\n",
    "      ))\n"
   ]
  },
  {
   "cell_type": "code",
   "execution_count": 39,
   "metadata": {},
   "outputs": [
    {
     "data": {
      "text/html": [
       "'Use HTML to display this shiny-taglist of length 1 with named elements character(0)'"
      ],
      "text/latex": [
       "'Use HTML to display this shiny-taglist of length 1 with named elements character(0)'"
      ],
      "text/markdown": [
       "'Use HTML to display this shiny-taglist of length 1 with named elements character(0)'"
      ],
      "text/plain": [
       "[1] \"Use HTML to display this shiny-taglist of length 1 with named elements character(0)\""
      ]
     },
     "metadata": {},
     "output_type": "display_data"
    }
   ],
   "source": [
    "r"
   ]
  },
  {
   "cell_type": "code",
   "execution_count": 69,
   "metadata": {},
   "outputs": [
    {
     "name": "stderr",
     "output_type": "stream",
     "text": [
      "Warning message in validateCoords(lng, lat, funcName):\n",
      "“Data contains 2 rows with either missing or invalid lat/lon values and will be ignored”"
     ]
    }
   ],
   "source": [
    "## Make the map ##\n",
    "q = leaflet(all.plot,width=\"100%\") %>%\n",
    "    addTiles(urlTemplate = \"https://mts1.google.com/vt/lyrs=s&hl=en&src=app&x={x}&y={y}&z={z}&s=G\", attribution = 'Google') %>%\n",
    "    addCircleMarkers(lng=~decimallongitude,lat=~decimallatitude,color=~pal(coord_origin),fillOpacity=0.7,opacity=0,radius=~log(n+5),popup = ~samples,popupOptions = popupOptions(autoPan=FALSE)) %>%\n",
    "    addLegend(\"bottomright\", colors=c(wes_palette(\"GrandBudapest2\")[2],wes_palette(\"GrandBudapest1\")[2]), labels=c(\"From data\",\"Geocoded (guess)\"),title = \"Coordinate source\",opacity = 1) %>%\n",
    "    addProviderTiles(\"CartoDB.PositronOnlyLabels\") \n",
    "\n",
    "r = browsable(\n",
    "tagList(\n",
    "    tags$head(tags$style(\n",
    "        \".leaflet-popup-content-wrapper {\n",
    "        background: rgba(105,105,105,0.6);\n",
    "        color: #ffffff;\n",
    "        padding: 2px;\n",
    "        border-radius: 8px;\n",
    "        border: 2px solid rgba(0,0,0,0.8)\n",
    "        }\n",
    "        \",\n",
    "        \".leaflet-popup-tip {\n",
    "        background: transparent;\n",
    "        border: none;\n",
    "        box-shadow: none;\n",
    "        }\n",
    "        \")),\n",
    "    q\n",
    "      ))\n"
   ]
  },
  {
   "cell_type": "markdown",
   "metadata": {},
   "source": []
  },
  {
   "cell_type": "code",
   "execution_count": 74,
   "metadata": {},
   "outputs": [
    {
     "data": {
      "text/html": [
       "<ol class=list-inline>\n",
       "\t<li>'shiny.tag.list'</li>\n",
       "\t<li>'list'</li>\n",
       "</ol>\n"
      ],
      "text/latex": [
       "\\begin{enumerate*}\n",
       "\\item 'shiny.tag.list'\n",
       "\\item 'list'\n",
       "\\end{enumerate*}\n"
      ],
      "text/markdown": [
       "1. 'shiny.tag.list'\n",
       "2. 'list'\n",
       "\n",
       "\n"
      ],
      "text/plain": [
       "[1] \"shiny.tag.list\" \"list\"          "
      ]
     },
     "metadata": {},
     "output_type": "display_data"
    }
   ],
   "source": [
    "library(rgl)\n",
    "library(rglwidget)\n",
    "library(htmltools)\n",
    "\n",
    "theta <- seq(0, 6*pi, len=100)\n",
    "xyz <- cbind(sin(theta), cos(theta), theta)\n",
    "lineid <- plot3d(xyz, type=\"l\", alpha = 1:0, \n",
    "                 lwd = 5, col = \"blue\")[\"data\"]\n",
    "\n",
    "q = browsable(tagList(\n",
    "  rglwidget(elementId = \"example\", width = 500, height = 400,\n",
    "            controllers = \"player\"),\n",
    "  playwidget(\"example\", \n",
    "             ageControl(births = theta, ages = c(0, 0, 1),\n",
    "                        objids = lineid, alpha = c(0, 1, 0)),\n",
    "             start = 1, stop = 6*pi, step = 0.1, \n",
    "             rate = 6,elementId = \"player\")\n",
    "))\n",
    "\n",
    "class(q)"
   ]
  },
  {
   "cell_type": "code",
   "execution_count": 75,
   "metadata": {},
   "outputs": [
    {
     "data": {
      "text/html": [
       "<ol class=list-inline>\n",
       "\t<li>'rglWebGL'</li>\n",
       "\t<li>'htmlwidget'</li>\n",
       "</ol>\n"
      ],
      "text/latex": [
       "\\begin{enumerate*}\n",
       "\\item 'rglWebGL'\n",
       "\\item 'htmlwidget'\n",
       "\\end{enumerate*}\n"
      ],
      "text/markdown": [
       "1. 'rglWebGL'\n",
       "2. 'htmlwidget'\n",
       "\n",
       "\n"
      ],
      "text/plain": [
       "[1] \"rglWebGL\"   \"htmlwidget\""
      ]
     },
     "metadata": {},
     "output_type": "display_data"
    },
    {
     "data": {
      "text/html": [
       "<ol class=list-inline>\n",
       "\t<li>'rglPlayer'</li>\n",
       "\t<li>'htmlwidget'</li>\n",
       "</ol>\n"
      ],
      "text/latex": [
       "\\begin{enumerate*}\n",
       "\\item 'rglPlayer'\n",
       "\\item 'htmlwidget'\n",
       "\\end{enumerate*}\n"
      ],
      "text/markdown": [
       "1. 'rglPlayer'\n",
       "2. 'htmlwidget'\n",
       "\n",
       "\n"
      ],
      "text/plain": [
       "[1] \"rglPlayer\"  \"htmlwidget\""
      ]
     },
     "metadata": {},
     "output_type": "display_data"
    }
   ],
   "source": [
    "class(q[[1]])\n",
    "class(q[[2]])"
   ]
  }
 ],
 "metadata": {
  "kernelspec": {
   "display_name": "R",
   "language": "R",
   "name": "ir"
  },
  "language_info": {
   "codemirror_mode": "r",
   "file_extension": ".r",
   "mimetype": "text/x-r-source",
   "name": "R",
   "pygments_lexer": "r",
   "version": "3.4.2"
  }
 },
 "nbformat": 4,
 "nbformat_minor": 2
}
